{
 "cells": [
  {
   "cell_type": "code",
   "execution_count": 1,
   "id": "architectural-symbol",
   "metadata": {},
   "outputs": [],
   "source": [
    "import numpy as np\n",
    "import pandas as pd\n",
    "import matplotlib.pyplot as plt\n",
    "import seaborn as sns"
   ]
  },
  {
   "cell_type": "code",
   "execution_count": 2,
   "id": "explicit-friendly",
   "metadata": {},
   "outputs": [
    {
     "name": "stderr",
     "output_type": "stream",
     "text": [
      "/home/corentin/.pyenv/versions/3.8.6/envs/lewagon/lib/python3.8/site-packages/IPython/core/interactiveshell.py:3146: DtypeWarning: Columns (15,16,18,19,20) have mixed types.Specify dtype option on import or set low_memory=False.\n",
      "  has_raised = await self.run_ast_nodes(code_ast.body, cell_name,\n"
     ]
    }
   ],
   "source": [
    "orders = pd.read_csv('../raw_data/orders.csv')"
   ]
  },
  {
   "cell_type": "code",
   "execution_count": 4,
   "id": "angry-pierre",
   "metadata": {},
   "outputs": [
    {
     "data": {
      "text/plain": [
       "(135303, 26)"
      ]
     },
     "execution_count": 4,
     "metadata": {},
     "output_type": "execute_result"
    }
   ],
   "source": [
    "orders.shape"
   ]
  },
  {
   "cell_type": "code",
   "execution_count": 6,
   "id": "destroyed-postage",
   "metadata": {},
   "outputs": [
    {
     "data": {
      "text/plain": [
       "Index(['akeed_order_id', 'customer_id', 'item_count', 'grand_total',\n",
       "       'payment_mode', 'promo_code', 'vendor_discount_amount',\n",
       "       'promo_code_discount_percentage', 'is_favorite', 'is_rated',\n",
       "       'vendor_rating', 'driver_rating', 'deliverydistance', 'preparationtime',\n",
       "       'delivery_time', 'order_accepted_time', 'driver_accepted_time',\n",
       "       'ready_for_pickup_time', 'picked_up_time', 'delivered_time',\n",
       "       'delivery_date', 'vendor_id', 'created_at', 'LOCATION_NUMBER',\n",
       "       'LOCATION_TYPE', 'CID X LOC_NUM X VENDOR'],\n",
       "      dtype='object')"
      ]
     },
     "execution_count": 6,
     "metadata": {},
     "output_type": "execute_result"
    }
   ],
   "source": [
    "orders"
   ]
  },
  {
   "cell_type": "code",
   "execution_count": 7,
   "id": "wound-expert",
   "metadata": {},
   "outputs": [],
   "source": [
    "df = pd.read_csv('../raw_data/train_full.csv', nrows=10000)"
   ]
  },
  {
   "cell_type": "code",
   "execution_count": 8,
   "id": "sustained-allocation",
   "metadata": {},
   "outputs": [
    {
     "data": {
      "text/plain": [
       "(10000, 73)"
      ]
     },
     "execution_count": 8,
     "metadata": {},
     "output_type": "execute_result"
    }
   ],
   "source": [
    "df.shape"
   ]
  },
  {
   "cell_type": "code",
   "execution_count": 9,
   "id": "technological-encoding",
   "metadata": {},
   "outputs": [
    {
     "data": {
      "text/plain": [
       "Index(['customer_id', 'gender', 'status_x', 'verified_x', 'created_at_x',\n",
       "       'updated_at_x', 'location_number', 'location_type', 'latitude_x',\n",
       "       'longitude_x', 'id', 'authentication_id', 'latitude_y', 'longitude_y',\n",
       "       'vendor_category_en', 'vendor_category_id', 'delivery_charge',\n",
       "       'serving_distance', 'is_open', 'OpeningTime', 'OpeningTime2',\n",
       "       'prepration_time', 'commission', 'is_akeed_delivering',\n",
       "       'discount_percentage', 'status_y', 'verified_y', 'rank', 'language',\n",
       "       'vendor_rating', 'sunday_from_time1', 'sunday_to_time1',\n",
       "       'sunday_from_time2', 'sunday_to_time2', 'monday_from_time1',\n",
       "       'monday_to_time1', 'monday_from_time2', 'monday_to_time2',\n",
       "       'tuesday_from_time1', 'tuesday_to_time1', 'tuesday_from_time2',\n",
       "       'tuesday_to_time2', 'wednesday_from_time1', 'wednesday_to_time1',\n",
       "       'wednesday_from_time2', 'wednesday_to_time2', 'thursday_from_time1',\n",
       "       'thursday_to_time1', 'thursday_from_time2', 'thursday_to_time2',\n",
       "       'friday_from_time1', 'friday_to_time1', 'friday_from_time2',\n",
       "       'friday_to_time2', 'saturday_from_time1', 'saturday_to_time1',\n",
       "       'saturday_from_time2', 'saturday_to_time2', 'primary_tags',\n",
       "       'open_close_flags', 'vendor_tag', 'vendor_tag_name', 'one_click_vendor',\n",
       "       'country_id', 'city_id', 'created_at_y', 'updated_at_y', 'device_type',\n",
       "       'display_orders', 'location_number_obj', 'id_obj',\n",
       "       'CID X LOC_NUM X VENDOR', 'target'],\n",
       "      dtype='object')"
      ]
     },
     "execution_count": 9,
     "metadata": {},
     "output_type": "execute_result"
    }
   ],
   "source": [
    "df.columns"
   ]
  },
  {
   "cell_type": "code",
   "execution_count": 27,
   "id": "silent-meditation",
   "metadata": {},
   "outputs": [
    {
     "data": {
      "text/html": [
       "<div>\n",
       "<style scoped>\n",
       "    .dataframe tbody tr th:only-of-type {\n",
       "        vertical-align: middle;\n",
       "    }\n",
       "\n",
       "    .dataframe tbody tr th {\n",
       "        vertical-align: top;\n",
       "    }\n",
       "\n",
       "    .dataframe thead th {\n",
       "        text-align: right;\n",
       "    }\n",
       "</style>\n",
       "<table border=\"1\" class=\"dataframe\">\n",
       "  <thead>\n",
       "    <tr style=\"text-align: right;\">\n",
       "      <th></th>\n",
       "      <th>akeed_order_id</th>\n",
       "      <th>customer_id</th>\n",
       "      <th>item_count</th>\n",
       "      <th>grand_total</th>\n",
       "      <th>payment_mode</th>\n",
       "      <th>promo_code</th>\n",
       "      <th>vendor_discount_amount</th>\n",
       "      <th>promo_code_discount_percentage</th>\n",
       "      <th>is_favorite</th>\n",
       "      <th>is_rated</th>\n",
       "      <th>...</th>\n",
       "      <th>driver_accepted_time</th>\n",
       "      <th>ready_for_pickup_time</th>\n",
       "      <th>picked_up_time</th>\n",
       "      <th>delivered_time</th>\n",
       "      <th>delivery_date</th>\n",
       "      <th>vendor_id</th>\n",
       "      <th>created_at</th>\n",
       "      <th>LOCATION_NUMBER</th>\n",
       "      <th>LOCATION_TYPE</th>\n",
       "      <th>CID X LOC_NUM X VENDOR</th>\n",
       "    </tr>\n",
       "  </thead>\n",
       "  <tbody>\n",
       "    <tr>\n",
       "      <th>0</th>\n",
       "      <td>163238.0</td>\n",
       "      <td>92PEE24</td>\n",
       "      <td>1.0</td>\n",
       "      <td>7.6</td>\n",
       "      <td>2</td>\n",
       "      <td>NaN</td>\n",
       "      <td>0.0</td>\n",
       "      <td>NaN</td>\n",
       "      <td>NaN</td>\n",
       "      <td>No</td>\n",
       "      <td>...</td>\n",
       "      <td>NaN</td>\n",
       "      <td>NaN</td>\n",
       "      <td>NaN</td>\n",
       "      <td>NaN</td>\n",
       "      <td>2019-07-31 05:30:00</td>\n",
       "      <td>105</td>\n",
       "      <td>2019-08-01 05:30:16</td>\n",
       "      <td>0</td>\n",
       "      <td>NaN</td>\n",
       "      <td>92PEE24 X 0 X 105</td>\n",
       "    </tr>\n",
       "    <tr>\n",
       "      <th>1</th>\n",
       "      <td>163240.0</td>\n",
       "      <td>QS68UD8</td>\n",
       "      <td>1.0</td>\n",
       "      <td>8.7</td>\n",
       "      <td>1</td>\n",
       "      <td>NaN</td>\n",
       "      <td>0.0</td>\n",
       "      <td>NaN</td>\n",
       "      <td>NaN</td>\n",
       "      <td>No</td>\n",
       "      <td>...</td>\n",
       "      <td>NaN</td>\n",
       "      <td>NaN</td>\n",
       "      <td>NaN</td>\n",
       "      <td>NaN</td>\n",
       "      <td>2019-07-31 05:30:00</td>\n",
       "      <td>294</td>\n",
       "      <td>2019-08-01 05:31:10</td>\n",
       "      <td>0</td>\n",
       "      <td>Work</td>\n",
       "      <td>QS68UD8 X 0 X 294</td>\n",
       "    </tr>\n",
       "    <tr>\n",
       "      <th>2</th>\n",
       "      <td>163241.0</td>\n",
       "      <td>MB7VY5F</td>\n",
       "      <td>2.0</td>\n",
       "      <td>14.4</td>\n",
       "      <td>1</td>\n",
       "      <td>NaN</td>\n",
       "      <td>0.0</td>\n",
       "      <td>NaN</td>\n",
       "      <td>NaN</td>\n",
       "      <td>No</td>\n",
       "      <td>...</td>\n",
       "      <td>NaN</td>\n",
       "      <td>NaN</td>\n",
       "      <td>NaN</td>\n",
       "      <td>NaN</td>\n",
       "      <td>2019-07-31 05:30:00</td>\n",
       "      <td>83</td>\n",
       "      <td>2019-08-01 05:31:33</td>\n",
       "      <td>0</td>\n",
       "      <td>NaN</td>\n",
       "      <td>MB7VY5F X 0 X 83</td>\n",
       "    </tr>\n",
       "    <tr>\n",
       "      <th>3</th>\n",
       "      <td>163244.0</td>\n",
       "      <td>KDJ951Y</td>\n",
       "      <td>1.0</td>\n",
       "      <td>7.1</td>\n",
       "      <td>1</td>\n",
       "      <td>NaN</td>\n",
       "      <td>0.0</td>\n",
       "      <td>NaN</td>\n",
       "      <td>NaN</td>\n",
       "      <td>No</td>\n",
       "      <td>...</td>\n",
       "      <td>NaN</td>\n",
       "      <td>NaN</td>\n",
       "      <td>NaN</td>\n",
       "      <td>NaN</td>\n",
       "      <td>2019-07-31 05:30:00</td>\n",
       "      <td>90</td>\n",
       "      <td>2019-08-01 05:34:54</td>\n",
       "      <td>0</td>\n",
       "      <td>Home</td>\n",
       "      <td>KDJ951Y X 0 X 90</td>\n",
       "    </tr>\n",
       "    <tr>\n",
       "      <th>4</th>\n",
       "      <td>163245.0</td>\n",
       "      <td>BAL0RVT</td>\n",
       "      <td>4.0</td>\n",
       "      <td>27.2</td>\n",
       "      <td>1</td>\n",
       "      <td>NaN</td>\n",
       "      <td>0.0</td>\n",
       "      <td>NaN</td>\n",
       "      <td>NaN</td>\n",
       "      <td>No</td>\n",
       "      <td>...</td>\n",
       "      <td>NaN</td>\n",
       "      <td>NaN</td>\n",
       "      <td>NaN</td>\n",
       "      <td>NaN</td>\n",
       "      <td>2019-07-31 05:30:00</td>\n",
       "      <td>83</td>\n",
       "      <td>2019-08-01 05:35:51</td>\n",
       "      <td>0</td>\n",
       "      <td>Work</td>\n",
       "      <td>BAL0RVT X 0 X 83</td>\n",
       "    </tr>\n",
       "    <tr>\n",
       "      <th>...</th>\n",
       "      <td>...</td>\n",
       "      <td>...</td>\n",
       "      <td>...</td>\n",
       "      <td>...</td>\n",
       "      <td>...</td>\n",
       "      <td>...</td>\n",
       "      <td>...</td>\n",
       "      <td>...</td>\n",
       "      <td>...</td>\n",
       "      <td>...</td>\n",
       "      <td>...</td>\n",
       "      <td>...</td>\n",
       "      <td>...</td>\n",
       "      <td>...</td>\n",
       "      <td>...</td>\n",
       "      <td>...</td>\n",
       "      <td>...</td>\n",
       "      <td>...</td>\n",
       "      <td>...</td>\n",
       "      <td>...</td>\n",
       "      <td>...</td>\n",
       "    </tr>\n",
       "    <tr>\n",
       "      <th>135298</th>\n",
       "      <td>415507.0</td>\n",
       "      <td>L6LFY6H</td>\n",
       "      <td>1.0</td>\n",
       "      <td>13.3</td>\n",
       "      <td>2</td>\n",
       "      <td>NaN</td>\n",
       "      <td>0.0</td>\n",
       "      <td>0.0</td>\n",
       "      <td>No</td>\n",
       "      <td>No</td>\n",
       "      <td>...</td>\n",
       "      <td>2020-02-29 23:59:21</td>\n",
       "      <td>2020-03-01 00:02:10</td>\n",
       "      <td>2020-03-01 00:22:53</td>\n",
       "      <td>2020-03-01 00:29:42</td>\n",
       "      <td>NaN</td>\n",
       "      <td>67</td>\n",
       "      <td>2020-02-29 23:47:59</td>\n",
       "      <td>0</td>\n",
       "      <td>NaN</td>\n",
       "      <td>L6LFY6H X 0 X 67</td>\n",
       "    </tr>\n",
       "    <tr>\n",
       "      <th>135299</th>\n",
       "      <td>415508.0</td>\n",
       "      <td>2GMMVGI</td>\n",
       "      <td>3.0</td>\n",
       "      <td>9.5</td>\n",
       "      <td>1</td>\n",
       "      <td>NaN</td>\n",
       "      <td>0.0</td>\n",
       "      <td>0.0</td>\n",
       "      <td>No</td>\n",
       "      <td>Yes</td>\n",
       "      <td>...</td>\n",
       "      <td>2020-03-01 00:19:46</td>\n",
       "      <td>2020-03-01 00:20:05</td>\n",
       "      <td>2020-03-01 00:27:50</td>\n",
       "      <td>2020-03-01 01:03:14</td>\n",
       "      <td>NaN</td>\n",
       "      <td>79</td>\n",
       "      <td>2020-02-29 23:48:37</td>\n",
       "      <td>0</td>\n",
       "      <td>Work</td>\n",
       "      <td>2GMMVGI X 0 X 79</td>\n",
       "    </tr>\n",
       "    <tr>\n",
       "      <th>135300</th>\n",
       "      <td>415510.0</td>\n",
       "      <td>LYTAAV0</td>\n",
       "      <td>4.0</td>\n",
       "      <td>18.2</td>\n",
       "      <td>2</td>\n",
       "      <td>NaN</td>\n",
       "      <td>0.0</td>\n",
       "      <td>0.0</td>\n",
       "      <td>No</td>\n",
       "      <td>No</td>\n",
       "      <td>...</td>\n",
       "      <td>2020-03-01 00:04:28</td>\n",
       "      <td>2020-03-01 00:10:34</td>\n",
       "      <td>2020-03-01 00:14:43</td>\n",
       "      <td>2020-03-01 00:36:37</td>\n",
       "      <td>NaN</td>\n",
       "      <td>28</td>\n",
       "      <td>2020-02-29 23:48:43</td>\n",
       "      <td>2</td>\n",
       "      <td>Other</td>\n",
       "      <td>LYTAAV0 X 2 X 28</td>\n",
       "    </tr>\n",
       "    <tr>\n",
       "      <th>135301</th>\n",
       "      <td>415512.0</td>\n",
       "      <td>NEV9A5D</td>\n",
       "      <td>3.0</td>\n",
       "      <td>7.7</td>\n",
       "      <td>1</td>\n",
       "      <td>NUE5BZAA7</td>\n",
       "      <td>0.0</td>\n",
       "      <td>0.0</td>\n",
       "      <td>No</td>\n",
       "      <td>No</td>\n",
       "      <td>...</td>\n",
       "      <td>2020-03-01 00:06:14</td>\n",
       "      <td>2020-03-01 00:08:10</td>\n",
       "      <td>2020-03-01 00:22:11</td>\n",
       "      <td>2020-03-01 00:36:52</td>\n",
       "      <td>NaN</td>\n",
       "      <td>841</td>\n",
       "      <td>2020-02-29 23:50:10</td>\n",
       "      <td>0</td>\n",
       "      <td>NaN</td>\n",
       "      <td>NEV9A5D X 0 X 841</td>\n",
       "    </tr>\n",
       "    <tr>\n",
       "      <th>135302</th>\n",
       "      <td>415515.0</td>\n",
       "      <td>77KCRC1</td>\n",
       "      <td>1.0</td>\n",
       "      <td>6.8</td>\n",
       "      <td>2</td>\n",
       "      <td>NaN</td>\n",
       "      <td>0.0</td>\n",
       "      <td>0.0</td>\n",
       "      <td>No</td>\n",
       "      <td>No</td>\n",
       "      <td>...</td>\n",
       "      <td>2020-03-01 00:07:21</td>\n",
       "      <td>2020-03-01 00:14:12</td>\n",
       "      <td>2020-03-01 00:21:33</td>\n",
       "      <td>2020-03-01 00:28:06</td>\n",
       "      <td>NaN</td>\n",
       "      <td>79</td>\n",
       "      <td>2020-02-29 23:52:14</td>\n",
       "      <td>4</td>\n",
       "      <td>NaN</td>\n",
       "      <td>77KCRC1 X 4 X 79</td>\n",
       "    </tr>\n",
       "  </tbody>\n",
       "</table>\n",
       "<p>135303 rows × 26 columns</p>\n",
       "</div>"
      ],
      "text/plain": [
       "        akeed_order_id customer_id  item_count  grand_total  payment_mode  \\\n",
       "0             163238.0     92PEE24         1.0          7.6             2   \n",
       "1             163240.0     QS68UD8         1.0          8.7             1   \n",
       "2             163241.0     MB7VY5F         2.0         14.4             1   \n",
       "3             163244.0     KDJ951Y         1.0          7.1             1   \n",
       "4             163245.0     BAL0RVT         4.0         27.2             1   \n",
       "...                ...         ...         ...          ...           ...   \n",
       "135298        415507.0     L6LFY6H         1.0         13.3             2   \n",
       "135299        415508.0     2GMMVGI         3.0          9.5             1   \n",
       "135300        415510.0     LYTAAV0         4.0         18.2             2   \n",
       "135301        415512.0     NEV9A5D         3.0          7.7             1   \n",
       "135302        415515.0     77KCRC1         1.0          6.8             2   \n",
       "\n",
       "       promo_code  vendor_discount_amount  promo_code_discount_percentage  \\\n",
       "0             NaN                     0.0                             NaN   \n",
       "1             NaN                     0.0                             NaN   \n",
       "2             NaN                     0.0                             NaN   \n",
       "3             NaN                     0.0                             NaN   \n",
       "4             NaN                     0.0                             NaN   \n",
       "...           ...                     ...                             ...   \n",
       "135298        NaN                     0.0                             0.0   \n",
       "135299        NaN                     0.0                             0.0   \n",
       "135300        NaN                     0.0                             0.0   \n",
       "135301  NUE5BZAA7                     0.0                             0.0   \n",
       "135302        NaN                     0.0                             0.0   \n",
       "\n",
       "       is_favorite is_rated  ...  driver_accepted_time  ready_for_pickup_time  \\\n",
       "0              NaN       No  ...                   NaN                    NaN   \n",
       "1              NaN       No  ...                   NaN                    NaN   \n",
       "2              NaN       No  ...                   NaN                    NaN   \n",
       "3              NaN       No  ...                   NaN                    NaN   \n",
       "4              NaN       No  ...                   NaN                    NaN   \n",
       "...            ...      ...  ...                   ...                    ...   \n",
       "135298          No       No  ...   2020-02-29 23:59:21    2020-03-01 00:02:10   \n",
       "135299          No      Yes  ...   2020-03-01 00:19:46    2020-03-01 00:20:05   \n",
       "135300          No       No  ...   2020-03-01 00:04:28    2020-03-01 00:10:34   \n",
       "135301          No       No  ...   2020-03-01 00:06:14    2020-03-01 00:08:10   \n",
       "135302          No       No  ...   2020-03-01 00:07:21    2020-03-01 00:14:12   \n",
       "\n",
       "             picked_up_time       delivered_time        delivery_date  \\\n",
       "0                       NaN                  NaN  2019-07-31 05:30:00   \n",
       "1                       NaN                  NaN  2019-07-31 05:30:00   \n",
       "2                       NaN                  NaN  2019-07-31 05:30:00   \n",
       "3                       NaN                  NaN  2019-07-31 05:30:00   \n",
       "4                       NaN                  NaN  2019-07-31 05:30:00   \n",
       "...                     ...                  ...                  ...   \n",
       "135298  2020-03-01 00:22:53  2020-03-01 00:29:42                  NaN   \n",
       "135299  2020-03-01 00:27:50  2020-03-01 01:03:14                  NaN   \n",
       "135300  2020-03-01 00:14:43  2020-03-01 00:36:37                  NaN   \n",
       "135301  2020-03-01 00:22:11  2020-03-01 00:36:52                  NaN   \n",
       "135302  2020-03-01 00:21:33  2020-03-01 00:28:06                  NaN   \n",
       "\n",
       "       vendor_id           created_at LOCATION_NUMBER LOCATION_TYPE  \\\n",
       "0            105  2019-08-01 05:30:16               0           NaN   \n",
       "1            294  2019-08-01 05:31:10               0          Work   \n",
       "2             83  2019-08-01 05:31:33               0           NaN   \n",
       "3             90  2019-08-01 05:34:54               0          Home   \n",
       "4             83  2019-08-01 05:35:51               0          Work   \n",
       "...          ...                  ...             ...           ...   \n",
       "135298        67  2020-02-29 23:47:59               0           NaN   \n",
       "135299        79  2020-02-29 23:48:37               0          Work   \n",
       "135300        28  2020-02-29 23:48:43               2         Other   \n",
       "135301       841  2020-02-29 23:50:10               0           NaN   \n",
       "135302        79  2020-02-29 23:52:14               4           NaN   \n",
       "\n",
       "       CID X LOC_NUM X VENDOR  \n",
       "0           92PEE24 X 0 X 105  \n",
       "1           QS68UD8 X 0 X 294  \n",
       "2            MB7VY5F X 0 X 83  \n",
       "3            KDJ951Y X 0 X 90  \n",
       "4            BAL0RVT X 0 X 83  \n",
       "...                       ...  \n",
       "135298       L6LFY6H X 0 X 67  \n",
       "135299       2GMMVGI X 0 X 79  \n",
       "135300       LYTAAV0 X 2 X 28  \n",
       "135301      NEV9A5D X 0 X 841  \n",
       "135302       77KCRC1 X 4 X 79  \n",
       "\n",
       "[135303 rows x 26 columns]"
      ]
     },
     "execution_count": 27,
     "metadata": {},
     "output_type": "execute_result"
    }
   ],
   "source": [
    "orders"
   ]
  },
  {
   "cell_type": "code",
   "execution_count": 23,
   "id": "signed-hopkins",
   "metadata": {},
   "outputs": [
    {
     "data": {
      "text/plain": [
       "array([0, 1])"
      ]
     },
     "execution_count": 23,
     "metadata": {},
     "output_type": "execute_result"
    }
   ],
   "source": [
    "df.target.unique()"
   ]
  },
  {
   "cell_type": "markdown",
   "id": "thorough-broadway",
   "metadata": {},
   "source": [
    "## Customers"
   ]
  },
  {
   "cell_type": "code",
   "execution_count": 14,
   "id": "impressive-respect",
   "metadata": {},
   "outputs": [],
   "source": [
    "customers = pd.read_csv('../raw_data/train_customers.csv')"
   ]
  },
  {
   "cell_type": "code",
   "execution_count": 18,
   "id": "worthy-backing",
   "metadata": {},
   "outputs": [
    {
     "data": {
      "text/plain": [
       "(34674, 34523)"
      ]
     },
     "execution_count": 18,
     "metadata": {},
     "output_type": "execute_result"
    }
   ],
   "source": [
    "customers.shape[0], customers.akeed_customer_id.nunique()"
   ]
  },
  {
   "cell_type": "code",
   "execution_count": 28,
   "id": "introductory-torture",
   "metadata": {},
   "outputs": [
    {
     "data": {
      "text/plain": [
       "Index(['akeed_customer_id', 'gender', 'dob', 'status', 'verified', 'language',\n",
       "       'created_at', 'updated_at'],\n",
       "      dtype='object')"
      ]
     },
     "execution_count": 28,
     "metadata": {},
     "output_type": "execute_result"
    }
   ],
   "source": [
    "customers.columns"
   ]
  },
  {
   "cell_type": "code",
   "execution_count": null,
   "id": "recognized-certificate",
   "metadata": {},
   "outputs": [],
   "source": [
    "# We should need to drop some duplicates or NaN"
   ]
  },
  {
   "cell_type": "code",
   "execution_count": null,
   "id": "elementary-lottery",
   "metadata": {},
   "outputs": [],
   "source": [
    "## Merge customers with orders"
   ]
  },
  {
   "cell_type": "code",
   "execution_count": 32,
   "id": "saving-pressure",
   "metadata": {},
   "outputs": [],
   "source": [
    "customers = customers.rename(columns={'akeed_customer_id' : 'customer_id'})"
   ]
  },
  {
   "cell_type": "code",
   "execution_count": 33,
   "id": "subject-samoa",
   "metadata": {},
   "outputs": [],
   "source": [
    "orders_2 = orders.merge(customers, how='left', on='customer_id')"
   ]
  },
  {
   "cell_type": "code",
   "execution_count": 36,
   "id": "sixth-intranet",
   "metadata": {},
   "outputs": [
    {
     "ename": "ModuleNotFoundError",
     "evalue": "No module named 'Recommendation_model'",
     "output_type": "error",
     "traceback": [
      "\u001b[0;31m---------------------------------------------------------------------------\u001b[0m",
      "\u001b[0;31mModuleNotFoundError\u001b[0m                       Traceback (most recent call last)",
      "\u001b[0;32m<ipython-input-36-bb8ed66c22e6>\u001b[0m in \u001b[0;36m<module>\u001b[0;34m\u001b[0m\n\u001b[0;32m----> 1\u001b[0;31m \u001b[0;32mfrom\u001b[0m \u001b[0mRecommendation_model\u001b[0m\u001b[0;34m.\u001b[0m\u001b[0mutils\u001b[0m \u001b[0;32mimport\u001b[0m \u001b[0mhaversine_vectorized\u001b[0m\u001b[0;34m\u001b[0m\u001b[0;34m\u001b[0m\u001b[0m\n\u001b[0m",
      "\u001b[0;31mModuleNotFoundError\u001b[0m: No module named 'Recommendation_model'"
     ]
    }
   ],
   "source": [
    "from Recommendation_model.utils import haversine_vectorized"
   ]
  },
  {
   "cell_type": "code",
   "execution_count": null,
   "id": "competent-prediction",
   "metadata": {},
   "outputs": [],
   "source": []
  }
 ],
 "metadata": {
  "kernelspec": {
   "display_name": "Python 3",
   "language": "python",
   "name": "python3"
  },
  "language_info": {
   "codemirror_mode": {
    "name": "ipython",
    "version": 3
   },
   "file_extension": ".py",
   "mimetype": "text/x-python",
   "name": "python",
   "nbconvert_exporter": "python",
   "pygments_lexer": "ipython3",
   "version": "3.8.6"
  },
  "toc": {
   "base_numbering": 1,
   "nav_menu": {},
   "number_sections": true,
   "sideBar": true,
   "skip_h1_title": false,
   "title_cell": "Table of Contents",
   "title_sidebar": "Contents",
   "toc_cell": false,
   "toc_position": {},
   "toc_section_display": true,
   "toc_window_display": false
  }
 },
 "nbformat": 4,
 "nbformat_minor": 5
}
