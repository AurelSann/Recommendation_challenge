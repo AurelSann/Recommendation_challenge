{
 "cells": [
  {
   "cell_type": "code",
   "execution_count": 1,
   "id": "architectural-symbol",
   "metadata": {},
   "outputs": [],
   "source": [
    "import numpy as np\n",
    "import pandas as pd\n",
    "import matplotlib.pyplot as plt\n",
    "import seaborn as sns"
   ]
  },
  {
   "cell_type": "markdown",
   "id": "thorough-broadway",
   "metadata": {},
   "source": [
    "# Data exploration"
   ]
  },
  {
   "cell_type": "markdown",
   "id": "civic-cleveland",
   "metadata": {},
   "source": [
    "## Get the data"
   ]
  },
  {
   "cell_type": "code",
   "execution_count": 2,
   "id": "explicit-friendly",
   "metadata": {},
   "outputs": [
    {
     "name": "stderr",
     "output_type": "stream",
     "text": [
      "/home/corentin/.pyenv/versions/3.8.6/envs/lewagon/lib/python3.8/site-packages/IPython/core/interactiveshell.py:3146: DtypeWarning: Columns (15,16,18,19,20) have mixed types.Specify dtype option on import or set low_memory=False.\n",
      "  has_raised = await self.run_ast_nodes(code_ast.body, cell_name,\n"
     ]
    }
   ],
   "source": [
    "orders = pd.read_csv('../raw_data/orders.csv')"
   ]
  },
  {
   "cell_type": "code",
   "execution_count": 28,
   "id": "invalid-thanks",
   "metadata": {},
   "outputs": [],
   "source": [
    "cols = ['customer_id', 'item_count', 'grand_total', 'is_favorite', 'is_rated', 'vendor_rating', 'driver_rating', 'vendor_id']"
   ]
  },
  {
   "cell_type": "code",
   "execution_count": 5,
   "id": "destroyed-postage",
   "metadata": {
    "collapsed": true
   },
   "outputs": [
    {
     "name": "stderr",
     "output_type": "stream",
     "text": [
      "<ipython-input-5-26fb0dcf3df0>:1: UserWarning: Boolean Series key will be reindexed to match DataFrame index.\n",
      "  orders[orders.is_favorite == \"Yes\"][orders.is_rated == \"Yes\"][cols]\n"
     ]
    },
    {
     "data": {
      "text/html": [
       "<div>\n",
       "<style scoped>\n",
       "    .dataframe tbody tr th:only-of-type {\n",
       "        vertical-align: middle;\n",
       "    }\n",
       "\n",
       "    .dataframe tbody tr th {\n",
       "        vertical-align: top;\n",
       "    }\n",
       "\n",
       "    .dataframe thead th {\n",
       "        text-align: right;\n",
       "    }\n",
       "</style>\n",
       "<table border=\"1\" class=\"dataframe\">\n",
       "  <thead>\n",
       "    <tr style=\"text-align: right;\">\n",
       "      <th></th>\n",
       "      <th>customer_id</th>\n",
       "      <th>item_count</th>\n",
       "      <th>grand_total</th>\n",
       "      <th>is_favorite</th>\n",
       "      <th>is_rated</th>\n",
       "      <th>vendor_rating</th>\n",
       "      <th>driver_rating</th>\n",
       "    </tr>\n",
       "  </thead>\n",
       "  <tbody>\n",
       "    <tr>\n",
       "      <th>2942</th>\n",
       "      <td>OF8VT8O</td>\n",
       "      <td>5.0</td>\n",
       "      <td>29.4</td>\n",
       "      <td>Yes</td>\n",
       "      <td>Yes</td>\n",
       "      <td>5.0</td>\n",
       "      <td>0.0</td>\n",
       "    </tr>\n",
       "    <tr>\n",
       "      <th>4125</th>\n",
       "      <td>30PZXDS</td>\n",
       "      <td>5.0</td>\n",
       "      <td>12.0</td>\n",
       "      <td>Yes</td>\n",
       "      <td>Yes</td>\n",
       "      <td>5.0</td>\n",
       "      <td>5.0</td>\n",
       "    </tr>\n",
       "    <tr>\n",
       "      <th>4126</th>\n",
       "      <td>30PZXDS</td>\n",
       "      <td>1.0</td>\n",
       "      <td>5.4</td>\n",
       "      <td>Yes</td>\n",
       "      <td>Yes</td>\n",
       "      <td>5.0</td>\n",
       "      <td>5.0</td>\n",
       "    </tr>\n",
       "    <tr>\n",
       "      <th>4128</th>\n",
       "      <td>30PZXDS</td>\n",
       "      <td>1.0</td>\n",
       "      <td>18.5</td>\n",
       "      <td>Yes</td>\n",
       "      <td>Yes</td>\n",
       "      <td>5.0</td>\n",
       "      <td>5.0</td>\n",
       "    </tr>\n",
       "    <tr>\n",
       "      <th>4131</th>\n",
       "      <td>30PZXDS</td>\n",
       "      <td>2.0</td>\n",
       "      <td>9.2</td>\n",
       "      <td>Yes</td>\n",
       "      <td>Yes</td>\n",
       "      <td>5.0</td>\n",
       "      <td>5.0</td>\n",
       "    </tr>\n",
       "    <tr>\n",
       "      <th>...</th>\n",
       "      <td>...</td>\n",
       "      <td>...</td>\n",
       "      <td>...</td>\n",
       "      <td>...</td>\n",
       "      <td>...</td>\n",
       "      <td>...</td>\n",
       "      <td>...</td>\n",
       "    </tr>\n",
       "    <tr>\n",
       "      <th>134253</th>\n",
       "      <td>C4ELJL2</td>\n",
       "      <td>1.0</td>\n",
       "      <td>24.2</td>\n",
       "      <td>Yes</td>\n",
       "      <td>Yes</td>\n",
       "      <td>5.0</td>\n",
       "      <td>5.0</td>\n",
       "    </tr>\n",
       "    <tr>\n",
       "      <th>134396</th>\n",
       "      <td>TVO4V6G</td>\n",
       "      <td>4.0</td>\n",
       "      <td>51.4</td>\n",
       "      <td>Yes</td>\n",
       "      <td>Yes</td>\n",
       "      <td>5.0</td>\n",
       "      <td>5.0</td>\n",
       "    </tr>\n",
       "    <tr>\n",
       "      <th>134472</th>\n",
       "      <td>53DNYDB</td>\n",
       "      <td>2.0</td>\n",
       "      <td>7.6</td>\n",
       "      <td>Yes</td>\n",
       "      <td>Yes</td>\n",
       "      <td>4.0</td>\n",
       "      <td>4.0</td>\n",
       "    </tr>\n",
       "    <tr>\n",
       "      <th>134605</th>\n",
       "      <td>TUXMG0D</td>\n",
       "      <td>1.0</td>\n",
       "      <td>4.6</td>\n",
       "      <td>Yes</td>\n",
       "      <td>Yes</td>\n",
       "      <td>5.0</td>\n",
       "      <td>5.0</td>\n",
       "    </tr>\n",
       "    <tr>\n",
       "      <th>135289</th>\n",
       "      <td>NE6ZHRW</td>\n",
       "      <td>3.0</td>\n",
       "      <td>43.6</td>\n",
       "      <td>Yes</td>\n",
       "      <td>Yes</td>\n",
       "      <td>5.0</td>\n",
       "      <td>5.0</td>\n",
       "    </tr>\n",
       "  </tbody>\n",
       "</table>\n",
       "<p>983 rows × 7 columns</p>\n",
       "</div>"
      ],
      "text/plain": [
       "       customer_id  item_count  grand_total is_favorite is_rated  \\\n",
       "2942       OF8VT8O         5.0         29.4         Yes      Yes   \n",
       "4125       30PZXDS         5.0         12.0         Yes      Yes   \n",
       "4126       30PZXDS         1.0          5.4         Yes      Yes   \n",
       "4128       30PZXDS         1.0         18.5         Yes      Yes   \n",
       "4131       30PZXDS         2.0          9.2         Yes      Yes   \n",
       "...            ...         ...          ...         ...      ...   \n",
       "134253     C4ELJL2         1.0         24.2         Yes      Yes   \n",
       "134396     TVO4V6G         4.0         51.4         Yes      Yes   \n",
       "134472     53DNYDB         2.0          7.6         Yes      Yes   \n",
       "134605     TUXMG0D         1.0          4.6         Yes      Yes   \n",
       "135289     NE6ZHRW         3.0         43.6         Yes      Yes   \n",
       "\n",
       "        vendor_rating  driver_rating  \n",
       "2942              5.0            0.0  \n",
       "4125              5.0            5.0  \n",
       "4126              5.0            5.0  \n",
       "4128              5.0            5.0  \n",
       "4131              5.0            5.0  \n",
       "...               ...            ...  \n",
       "134253            5.0            5.0  \n",
       "134396            5.0            5.0  \n",
       "134472            4.0            4.0  \n",
       "134605            5.0            5.0  \n",
       "135289            5.0            5.0  \n",
       "\n",
       "[983 rows x 7 columns]"
      ]
     },
     "execution_count": 5,
     "metadata": {},
     "output_type": "execute_result"
    }
   ],
   "source": [
    "orders[orders.is_favorite == \"Yes\"][orders.is_rated == \"Yes\"][cols]"
   ]
  },
  {
   "cell_type": "code",
   "execution_count": 6,
   "id": "wound-expert",
   "metadata": {},
   "outputs": [],
   "source": [
    "df = pd.read_csv('../raw_data/train_full.csv', nrows=10000)"
   ]
  },
  {
   "cell_type": "code",
   "execution_count": 7,
   "id": "silent-meditation",
   "metadata": {
    "collapsed": true
   },
   "outputs": [
    {
     "data": {
      "text/html": [
       "<div>\n",
       "<style scoped>\n",
       "    .dataframe tbody tr th:only-of-type {\n",
       "        vertical-align: middle;\n",
       "    }\n",
       "\n",
       "    .dataframe tbody tr th {\n",
       "        vertical-align: top;\n",
       "    }\n",
       "\n",
       "    .dataframe thead th {\n",
       "        text-align: right;\n",
       "    }\n",
       "</style>\n",
       "<table border=\"1\" class=\"dataframe\">\n",
       "  <thead>\n",
       "    <tr style=\"text-align: right;\">\n",
       "      <th></th>\n",
       "      <th>akeed_order_id</th>\n",
       "      <th>customer_id</th>\n",
       "      <th>item_count</th>\n",
       "      <th>grand_total</th>\n",
       "      <th>payment_mode</th>\n",
       "      <th>promo_code</th>\n",
       "      <th>vendor_discount_amount</th>\n",
       "      <th>promo_code_discount_percentage</th>\n",
       "      <th>is_favorite</th>\n",
       "      <th>is_rated</th>\n",
       "      <th>...</th>\n",
       "      <th>driver_accepted_time</th>\n",
       "      <th>ready_for_pickup_time</th>\n",
       "      <th>picked_up_time</th>\n",
       "      <th>delivered_time</th>\n",
       "      <th>delivery_date</th>\n",
       "      <th>vendor_id</th>\n",
       "      <th>created_at</th>\n",
       "      <th>LOCATION_NUMBER</th>\n",
       "      <th>LOCATION_TYPE</th>\n",
       "      <th>CID X LOC_NUM X VENDOR</th>\n",
       "    </tr>\n",
       "  </thead>\n",
       "  <tbody>\n",
       "    <tr>\n",
       "      <th>0</th>\n",
       "      <td>163238.0</td>\n",
       "      <td>92PEE24</td>\n",
       "      <td>1.0</td>\n",
       "      <td>7.6</td>\n",
       "      <td>2</td>\n",
       "      <td>NaN</td>\n",
       "      <td>0.0</td>\n",
       "      <td>NaN</td>\n",
       "      <td>NaN</td>\n",
       "      <td>No</td>\n",
       "      <td>...</td>\n",
       "      <td>NaN</td>\n",
       "      <td>NaN</td>\n",
       "      <td>NaN</td>\n",
       "      <td>NaN</td>\n",
       "      <td>2019-07-31 05:30:00</td>\n",
       "      <td>105</td>\n",
       "      <td>2019-08-01 05:30:16</td>\n",
       "      <td>0</td>\n",
       "      <td>NaN</td>\n",
       "      <td>92PEE24 X 0 X 105</td>\n",
       "    </tr>\n",
       "    <tr>\n",
       "      <th>1</th>\n",
       "      <td>163240.0</td>\n",
       "      <td>QS68UD8</td>\n",
       "      <td>1.0</td>\n",
       "      <td>8.7</td>\n",
       "      <td>1</td>\n",
       "      <td>NaN</td>\n",
       "      <td>0.0</td>\n",
       "      <td>NaN</td>\n",
       "      <td>NaN</td>\n",
       "      <td>No</td>\n",
       "      <td>...</td>\n",
       "      <td>NaN</td>\n",
       "      <td>NaN</td>\n",
       "      <td>NaN</td>\n",
       "      <td>NaN</td>\n",
       "      <td>2019-07-31 05:30:00</td>\n",
       "      <td>294</td>\n",
       "      <td>2019-08-01 05:31:10</td>\n",
       "      <td>0</td>\n",
       "      <td>Work</td>\n",
       "      <td>QS68UD8 X 0 X 294</td>\n",
       "    </tr>\n",
       "    <tr>\n",
       "      <th>2</th>\n",
       "      <td>163241.0</td>\n",
       "      <td>MB7VY5F</td>\n",
       "      <td>2.0</td>\n",
       "      <td>14.4</td>\n",
       "      <td>1</td>\n",
       "      <td>NaN</td>\n",
       "      <td>0.0</td>\n",
       "      <td>NaN</td>\n",
       "      <td>NaN</td>\n",
       "      <td>No</td>\n",
       "      <td>...</td>\n",
       "      <td>NaN</td>\n",
       "      <td>NaN</td>\n",
       "      <td>NaN</td>\n",
       "      <td>NaN</td>\n",
       "      <td>2019-07-31 05:30:00</td>\n",
       "      <td>83</td>\n",
       "      <td>2019-08-01 05:31:33</td>\n",
       "      <td>0</td>\n",
       "      <td>NaN</td>\n",
       "      <td>MB7VY5F X 0 X 83</td>\n",
       "    </tr>\n",
       "    <tr>\n",
       "      <th>3</th>\n",
       "      <td>163244.0</td>\n",
       "      <td>KDJ951Y</td>\n",
       "      <td>1.0</td>\n",
       "      <td>7.1</td>\n",
       "      <td>1</td>\n",
       "      <td>NaN</td>\n",
       "      <td>0.0</td>\n",
       "      <td>NaN</td>\n",
       "      <td>NaN</td>\n",
       "      <td>No</td>\n",
       "      <td>...</td>\n",
       "      <td>NaN</td>\n",
       "      <td>NaN</td>\n",
       "      <td>NaN</td>\n",
       "      <td>NaN</td>\n",
       "      <td>2019-07-31 05:30:00</td>\n",
       "      <td>90</td>\n",
       "      <td>2019-08-01 05:34:54</td>\n",
       "      <td>0</td>\n",
       "      <td>Home</td>\n",
       "      <td>KDJ951Y X 0 X 90</td>\n",
       "    </tr>\n",
       "    <tr>\n",
       "      <th>4</th>\n",
       "      <td>163245.0</td>\n",
       "      <td>BAL0RVT</td>\n",
       "      <td>4.0</td>\n",
       "      <td>27.2</td>\n",
       "      <td>1</td>\n",
       "      <td>NaN</td>\n",
       "      <td>0.0</td>\n",
       "      <td>NaN</td>\n",
       "      <td>NaN</td>\n",
       "      <td>No</td>\n",
       "      <td>...</td>\n",
       "      <td>NaN</td>\n",
       "      <td>NaN</td>\n",
       "      <td>NaN</td>\n",
       "      <td>NaN</td>\n",
       "      <td>2019-07-31 05:30:00</td>\n",
       "      <td>83</td>\n",
       "      <td>2019-08-01 05:35:51</td>\n",
       "      <td>0</td>\n",
       "      <td>Work</td>\n",
       "      <td>BAL0RVT X 0 X 83</td>\n",
       "    </tr>\n",
       "    <tr>\n",
       "      <th>...</th>\n",
       "      <td>...</td>\n",
       "      <td>...</td>\n",
       "      <td>...</td>\n",
       "      <td>...</td>\n",
       "      <td>...</td>\n",
       "      <td>...</td>\n",
       "      <td>...</td>\n",
       "      <td>...</td>\n",
       "      <td>...</td>\n",
       "      <td>...</td>\n",
       "      <td>...</td>\n",
       "      <td>...</td>\n",
       "      <td>...</td>\n",
       "      <td>...</td>\n",
       "      <td>...</td>\n",
       "      <td>...</td>\n",
       "      <td>...</td>\n",
       "      <td>...</td>\n",
       "      <td>...</td>\n",
       "      <td>...</td>\n",
       "      <td>...</td>\n",
       "    </tr>\n",
       "    <tr>\n",
       "      <th>135298</th>\n",
       "      <td>415507.0</td>\n",
       "      <td>L6LFY6H</td>\n",
       "      <td>1.0</td>\n",
       "      <td>13.3</td>\n",
       "      <td>2</td>\n",
       "      <td>NaN</td>\n",
       "      <td>0.0</td>\n",
       "      <td>0.0</td>\n",
       "      <td>No</td>\n",
       "      <td>No</td>\n",
       "      <td>...</td>\n",
       "      <td>2020-02-29 23:59:21</td>\n",
       "      <td>2020-03-01 00:02:10</td>\n",
       "      <td>2020-03-01 00:22:53</td>\n",
       "      <td>2020-03-01 00:29:42</td>\n",
       "      <td>NaN</td>\n",
       "      <td>67</td>\n",
       "      <td>2020-02-29 23:47:59</td>\n",
       "      <td>0</td>\n",
       "      <td>NaN</td>\n",
       "      <td>L6LFY6H X 0 X 67</td>\n",
       "    </tr>\n",
       "    <tr>\n",
       "      <th>135299</th>\n",
       "      <td>415508.0</td>\n",
       "      <td>2GMMVGI</td>\n",
       "      <td>3.0</td>\n",
       "      <td>9.5</td>\n",
       "      <td>1</td>\n",
       "      <td>NaN</td>\n",
       "      <td>0.0</td>\n",
       "      <td>0.0</td>\n",
       "      <td>No</td>\n",
       "      <td>Yes</td>\n",
       "      <td>...</td>\n",
       "      <td>2020-03-01 00:19:46</td>\n",
       "      <td>2020-03-01 00:20:05</td>\n",
       "      <td>2020-03-01 00:27:50</td>\n",
       "      <td>2020-03-01 01:03:14</td>\n",
       "      <td>NaN</td>\n",
       "      <td>79</td>\n",
       "      <td>2020-02-29 23:48:37</td>\n",
       "      <td>0</td>\n",
       "      <td>Work</td>\n",
       "      <td>2GMMVGI X 0 X 79</td>\n",
       "    </tr>\n",
       "    <tr>\n",
       "      <th>135300</th>\n",
       "      <td>415510.0</td>\n",
       "      <td>LYTAAV0</td>\n",
       "      <td>4.0</td>\n",
       "      <td>18.2</td>\n",
       "      <td>2</td>\n",
       "      <td>NaN</td>\n",
       "      <td>0.0</td>\n",
       "      <td>0.0</td>\n",
       "      <td>No</td>\n",
       "      <td>No</td>\n",
       "      <td>...</td>\n",
       "      <td>2020-03-01 00:04:28</td>\n",
       "      <td>2020-03-01 00:10:34</td>\n",
       "      <td>2020-03-01 00:14:43</td>\n",
       "      <td>2020-03-01 00:36:37</td>\n",
       "      <td>NaN</td>\n",
       "      <td>28</td>\n",
       "      <td>2020-02-29 23:48:43</td>\n",
       "      <td>2</td>\n",
       "      <td>Other</td>\n",
       "      <td>LYTAAV0 X 2 X 28</td>\n",
       "    </tr>\n",
       "    <tr>\n",
       "      <th>135301</th>\n",
       "      <td>415512.0</td>\n",
       "      <td>NEV9A5D</td>\n",
       "      <td>3.0</td>\n",
       "      <td>7.7</td>\n",
       "      <td>1</td>\n",
       "      <td>NUE5BZAA7</td>\n",
       "      <td>0.0</td>\n",
       "      <td>0.0</td>\n",
       "      <td>No</td>\n",
       "      <td>No</td>\n",
       "      <td>...</td>\n",
       "      <td>2020-03-01 00:06:14</td>\n",
       "      <td>2020-03-01 00:08:10</td>\n",
       "      <td>2020-03-01 00:22:11</td>\n",
       "      <td>2020-03-01 00:36:52</td>\n",
       "      <td>NaN</td>\n",
       "      <td>841</td>\n",
       "      <td>2020-02-29 23:50:10</td>\n",
       "      <td>0</td>\n",
       "      <td>NaN</td>\n",
       "      <td>NEV9A5D X 0 X 841</td>\n",
       "    </tr>\n",
       "    <tr>\n",
       "      <th>135302</th>\n",
       "      <td>415515.0</td>\n",
       "      <td>77KCRC1</td>\n",
       "      <td>1.0</td>\n",
       "      <td>6.8</td>\n",
       "      <td>2</td>\n",
       "      <td>NaN</td>\n",
       "      <td>0.0</td>\n",
       "      <td>0.0</td>\n",
       "      <td>No</td>\n",
       "      <td>No</td>\n",
       "      <td>...</td>\n",
       "      <td>2020-03-01 00:07:21</td>\n",
       "      <td>2020-03-01 00:14:12</td>\n",
       "      <td>2020-03-01 00:21:33</td>\n",
       "      <td>2020-03-01 00:28:06</td>\n",
       "      <td>NaN</td>\n",
       "      <td>79</td>\n",
       "      <td>2020-02-29 23:52:14</td>\n",
       "      <td>4</td>\n",
       "      <td>NaN</td>\n",
       "      <td>77KCRC1 X 4 X 79</td>\n",
       "    </tr>\n",
       "  </tbody>\n",
       "</table>\n",
       "<p>135303 rows × 26 columns</p>\n",
       "</div>"
      ],
      "text/plain": [
       "        akeed_order_id customer_id  item_count  grand_total  payment_mode  \\\n",
       "0             163238.0     92PEE24         1.0          7.6             2   \n",
       "1             163240.0     QS68UD8         1.0          8.7             1   \n",
       "2             163241.0     MB7VY5F         2.0         14.4             1   \n",
       "3             163244.0     KDJ951Y         1.0          7.1             1   \n",
       "4             163245.0     BAL0RVT         4.0         27.2             1   \n",
       "...                ...         ...         ...          ...           ...   \n",
       "135298        415507.0     L6LFY6H         1.0         13.3             2   \n",
       "135299        415508.0     2GMMVGI         3.0          9.5             1   \n",
       "135300        415510.0     LYTAAV0         4.0         18.2             2   \n",
       "135301        415512.0     NEV9A5D         3.0          7.7             1   \n",
       "135302        415515.0     77KCRC1         1.0          6.8             2   \n",
       "\n",
       "       promo_code  vendor_discount_amount  promo_code_discount_percentage  \\\n",
       "0             NaN                     0.0                             NaN   \n",
       "1             NaN                     0.0                             NaN   \n",
       "2             NaN                     0.0                             NaN   \n",
       "3             NaN                     0.0                             NaN   \n",
       "4             NaN                     0.0                             NaN   \n",
       "...           ...                     ...                             ...   \n",
       "135298        NaN                     0.0                             0.0   \n",
       "135299        NaN                     0.0                             0.0   \n",
       "135300        NaN                     0.0                             0.0   \n",
       "135301  NUE5BZAA7                     0.0                             0.0   \n",
       "135302        NaN                     0.0                             0.0   \n",
       "\n",
       "       is_favorite is_rated  ...  driver_accepted_time  ready_for_pickup_time  \\\n",
       "0              NaN       No  ...                   NaN                    NaN   \n",
       "1              NaN       No  ...                   NaN                    NaN   \n",
       "2              NaN       No  ...                   NaN                    NaN   \n",
       "3              NaN       No  ...                   NaN                    NaN   \n",
       "4              NaN       No  ...                   NaN                    NaN   \n",
       "...            ...      ...  ...                   ...                    ...   \n",
       "135298          No       No  ...   2020-02-29 23:59:21    2020-03-01 00:02:10   \n",
       "135299          No      Yes  ...   2020-03-01 00:19:46    2020-03-01 00:20:05   \n",
       "135300          No       No  ...   2020-03-01 00:04:28    2020-03-01 00:10:34   \n",
       "135301          No       No  ...   2020-03-01 00:06:14    2020-03-01 00:08:10   \n",
       "135302          No       No  ...   2020-03-01 00:07:21    2020-03-01 00:14:12   \n",
       "\n",
       "             picked_up_time       delivered_time        delivery_date  \\\n",
       "0                       NaN                  NaN  2019-07-31 05:30:00   \n",
       "1                       NaN                  NaN  2019-07-31 05:30:00   \n",
       "2                       NaN                  NaN  2019-07-31 05:30:00   \n",
       "3                       NaN                  NaN  2019-07-31 05:30:00   \n",
       "4                       NaN                  NaN  2019-07-31 05:30:00   \n",
       "...                     ...                  ...                  ...   \n",
       "135298  2020-03-01 00:22:53  2020-03-01 00:29:42                  NaN   \n",
       "135299  2020-03-01 00:27:50  2020-03-01 01:03:14                  NaN   \n",
       "135300  2020-03-01 00:14:43  2020-03-01 00:36:37                  NaN   \n",
       "135301  2020-03-01 00:22:11  2020-03-01 00:36:52                  NaN   \n",
       "135302  2020-03-01 00:21:33  2020-03-01 00:28:06                  NaN   \n",
       "\n",
       "       vendor_id           created_at LOCATION_NUMBER LOCATION_TYPE  \\\n",
       "0            105  2019-08-01 05:30:16               0           NaN   \n",
       "1            294  2019-08-01 05:31:10               0          Work   \n",
       "2             83  2019-08-01 05:31:33               0           NaN   \n",
       "3             90  2019-08-01 05:34:54               0          Home   \n",
       "4             83  2019-08-01 05:35:51               0          Work   \n",
       "...          ...                  ...             ...           ...   \n",
       "135298        67  2020-02-29 23:47:59               0           NaN   \n",
       "135299        79  2020-02-29 23:48:37               0          Work   \n",
       "135300        28  2020-02-29 23:48:43               2         Other   \n",
       "135301       841  2020-02-29 23:50:10               0           NaN   \n",
       "135302        79  2020-02-29 23:52:14               4           NaN   \n",
       "\n",
       "       CID X LOC_NUM X VENDOR  \n",
       "0           92PEE24 X 0 X 105  \n",
       "1           QS68UD8 X 0 X 294  \n",
       "2            MB7VY5F X 0 X 83  \n",
       "3            KDJ951Y X 0 X 90  \n",
       "4            BAL0RVT X 0 X 83  \n",
       "...                       ...  \n",
       "135298       L6LFY6H X 0 X 67  \n",
       "135299       2GMMVGI X 0 X 79  \n",
       "135300       LYTAAV0 X 2 X 28  \n",
       "135301      NEV9A5D X 0 X 841  \n",
       "135302       77KCRC1 X 4 X 79  \n",
       "\n",
       "[135303 rows x 26 columns]"
      ]
     },
     "execution_count": 7,
     "metadata": {},
     "output_type": "execute_result"
    }
   ],
   "source": [
    "orders"
   ]
  },
  {
   "cell_type": "code",
   "execution_count": 8,
   "id": "signed-hopkins",
   "metadata": {},
   "outputs": [
    {
     "data": {
      "text/plain": [
       "array([0, 1])"
      ]
     },
     "execution_count": 8,
     "metadata": {},
     "output_type": "execute_result"
    }
   ],
   "source": [
    "df.target.unique()"
   ]
  },
  {
   "cell_type": "code",
   "execution_count": 70,
   "id": "impressive-respect",
   "metadata": {},
   "outputs": [],
   "source": [
    "customers = pd.read_csv('../raw_data/train_customers.csv')"
   ]
  },
  {
   "cell_type": "code",
   "execution_count": 10,
   "id": "worthy-backing",
   "metadata": {
    "collapsed": true
   },
   "outputs": [
    {
     "data": {
      "text/plain": [
       "(34674, 34523)"
      ]
     },
     "execution_count": 10,
     "metadata": {},
     "output_type": "execute_result"
    }
   ],
   "source": [
    "customers.shape[0], customers.akeed_customer_id.nunique()"
   ]
  },
  {
   "cell_type": "code",
   "execution_count": 71,
   "id": "introductory-torture",
   "metadata": {},
   "outputs": [
    {
     "data": {
      "text/plain": [
       "Index(['akeed_customer_id', 'gender', 'dob', 'status', 'verified', 'language',\n",
       "       'created_at', 'updated_at'],\n",
       "      dtype='object')"
      ]
     },
     "execution_count": 71,
     "metadata": {},
     "output_type": "execute_result"
    }
   ],
   "source": [
    "customers.columns"
   ]
  },
  {
   "cell_type": "code",
   "execution_count": 12,
   "id": "recognized-certificate",
   "metadata": {},
   "outputs": [],
   "source": [
    "# We should need to drop some duplicates or NaN"
   ]
  },
  {
   "cell_type": "code",
   "execution_count": 13,
   "id": "elementary-lottery",
   "metadata": {},
   "outputs": [],
   "source": [
    "## Merge customers with orders"
   ]
  },
  {
   "cell_type": "code",
   "execution_count": 14,
   "id": "saving-pressure",
   "metadata": {},
   "outputs": [],
   "source": [
    "customers = customers.rename(columns={'akeed_customer_id' : 'customer_id'})"
   ]
  },
  {
   "cell_type": "code",
   "execution_count": 15,
   "id": "subject-samoa",
   "metadata": {},
   "outputs": [],
   "source": [
    "orders_2 = orders.merge(customers, how='left', on='customer_id')"
   ]
  },
  {
   "cell_type": "markdown",
   "id": "nearby-shakespeare",
   "metadata": {},
   "source": [
    "## Inspect orders"
   ]
  },
  {
   "cell_type": "code",
   "execution_count": 48,
   "id": "rising-delay",
   "metadata": {},
   "outputs": [
    {
     "data": {
      "text/plain": [
       "Index(['akeed_order_id', 'customer_id', 'item_count', 'grand_total',\n",
       "       'payment_mode', 'promo_code', 'vendor_discount_amount',\n",
       "       'promo_code_discount_percentage', 'is_favorite', 'is_rated',\n",
       "       'vendor_rating', 'driver_rating', 'deliverydistance', 'preparationtime',\n",
       "       'delivery_time', 'order_accepted_time', 'driver_accepted_time',\n",
       "       'ready_for_pickup_time', 'picked_up_time', 'delivered_time',\n",
       "       'delivery_date', 'vendor_id', 'created_at', 'LOCATION_NUMBER',\n",
       "       'LOCATION_TYPE', 'CID X LOC_NUM X VENDOR'],\n",
       "      dtype='object')"
      ]
     },
     "execution_count": 48,
     "metadata": {},
     "output_type": "execute_result"
    }
   ],
   "source": [
    "orders.columns"
   ]
  },
  {
   "cell_type": "code",
   "execution_count": 49,
   "id": "danish-mobility",
   "metadata": {},
   "outputs": [
    {
     "data": {
      "text/plain": [
       "akeed_order_id                    float64\n",
       "customer_id                        object\n",
       "item_count                        float64\n",
       "grand_total                       float64\n",
       "payment_mode                        int64\n",
       "promo_code                         object\n",
       "vendor_discount_amount            float64\n",
       "promo_code_discount_percentage    float64\n",
       "is_favorite                        object\n",
       "is_rated                           object\n",
       "vendor_rating                     float64\n",
       "driver_rating                     float64\n",
       "deliverydistance                  float64\n",
       "preparationtime                   float64\n",
       "delivery_time                      object\n",
       "order_accepted_time                object\n",
       "driver_accepted_time               object\n",
       "ready_for_pickup_time              object\n",
       "picked_up_time                     object\n",
       "delivered_time                     object\n",
       "delivery_date                      object\n",
       "vendor_id                           int64\n",
       "created_at                         object\n",
       "LOCATION_NUMBER                     int64\n",
       "LOCATION_TYPE                      object\n",
       "CID X LOC_NUM X VENDOR             object\n",
       "dtype: object"
      ]
     },
     "execution_count": 49,
     "metadata": {},
     "output_type": "execute_result"
    }
   ],
   "source": [
    "orders.dtypes"
   ]
  },
  {
   "cell_type": "markdown",
   "id": "assumed-privilege",
   "metadata": {
    "heading_collapsed": true
   },
   "source": [
    "### Fare amount"
   ]
  },
  {
   "cell_type": "code",
   "execution_count": 53,
   "id": "eastern-individual",
   "metadata": {
    "hidden": true
   },
   "outputs": [
    {
     "data": {
      "text/plain": [
       "<AxesSubplot:xlabel='grand_total', ylabel='Count'>"
      ]
     },
     "execution_count": 53,
     "metadata": {},
     "output_type": "execute_result"
    },
    {
     "data": {
      "image/png": "[encoded data removed]",
      "text/plain": [
       "<Figure size 864x360 with 1 Axes>"
      ]
     },
     "metadata": {},
     "output_type": "display_data"
    }
   ],
   "source": [
    "plt.style.use('fivethirtyeight')\n",
    "plt.rcParams['font.size'] = 14\n",
    "plt.figure(figsize=(12,5))\n",
    "palette = sns.color_palette('Paired', 10)\n",
    "sns.histplot(orders[orders['grand_total'] < 200]['grand_total'], bins=50)"
   ]
  },
  {
   "cell_type": "code",
   "execution_count": 59,
   "id": "lucky-petite",
   "metadata": {
    "hidden": true
   },
   "outputs": [
    {
     "data": {
      "image/png": "[encoded data removed]",
      "text/plain": [
       "<Figure size 360x360 with 1 Axes>"
      ]
     },
     "metadata": {},
     "output_type": "display_data"
    }
   ],
   "source": [
    "sns.catplot(x='grand_total', data=orders, kind='violin');"
   ]
  },
  {
   "cell_type": "code",
   "execution_count": 67,
   "id": "polar-eclipse",
   "metadata": {
    "hidden": true
   },
   "outputs": [],
   "source": [
    "# We can also visualise binned fare_amount variable\n",
    "orders['fare-bin'] = pd.cut(orders['grand_total'], bins = list(range(0, 50, 5)), include_lowest=True).astype('str')\n",
    "\n",
    "# Uppermost bin\n",
    "orders.loc[orders['fare-bin'] == 'nan', 'fare-bin'] = '[45+]'\n",
    "\n",
    "# apply this to clean up the first bin's label\n",
    "# orders['fare-bin'] = orders['fare-bin'].apply(lambda x: x.replace('-0.001', '0'))\n",
    "\n",
    "# sort by fare the correct look in the chart\n",
    "orders = orders.sort_values(by='fare-bin')"
   ]
  },
  {
   "cell_type": "code",
   "execution_count": 68,
   "id": "hybrid-playlist",
   "metadata": {
    "hidden": true
   },
   "outputs": [
    {
     "data": {
      "image/png": "[encoded data removed]",
      "text/plain": [
       "<Figure size 1080x360 with 1 Axes>"
      ]
     },
     "metadata": {},
     "output_type": "display_data"
    }
   ],
   "source": [
    "sns.catplot(x=\"fare-bin\", kind=\"count\", palette=palette, data=orders, height=5, aspect=3);\n",
    "sns.despine()\n",
    "plt.show()"
   ]
  },
  {
   "cell_type": "code",
   "execution_count": 62,
   "id": "comparative-berkeley",
   "metadata": {
    "hidden": true
   },
   "outputs": [
    {
     "data": {
      "image/png": "[encoded data removed]",
      "text/plain": [
       "<Figure size 360x360 with 1 Axes>"
      ]
     },
     "metadata": {},
     "output_type": "display_data"
    }
   ],
   "source": [
    "sns.catplot(x='item_count', data=orders, kind='violin');"
   ]
  },
  {
   "cell_type": "markdown",
   "id": "distinguished-offer",
   "metadata": {},
   "source": [
    "### Geospatial data"
   ]
  },
  {
   "cell_type": "code",
   "execution_count": 74,
   "id": "educated-vancouver",
   "metadata": {},
   "outputs": [
    {
     "data": {
      "text/plain": [
       "Index(['id', 'authentication_id', 'latitude', 'longitude',\n",
       "       'vendor_category_en', 'vendor_category_id', 'delivery_charge',\n",
       "       'serving_distance', 'is_open', 'OpeningTime', 'OpeningTime2',\n",
       "       'prepration_time', 'commission', 'is_akeed_delivering',\n",
       "       'discount_percentage', 'status', 'verified', 'rank', 'language',\n",
       "       'vendor_rating', 'sunday_from_time1', 'sunday_to_time1',\n",
       "       'sunday_from_time2', 'sunday_to_time2', 'monday_from_time1',\n",
       "       'monday_to_time1', 'monday_from_time2', 'monday_to_time2',\n",
       "       'tuesday_from_time1', 'tuesday_to_time1', 'tuesday_from_time2',\n",
       "       'tuesday_to_time2', 'wednesday_from_time1', 'wednesday_to_time1',\n",
       "       'wednesday_from_time2', 'wednesday_to_time2', 'thursday_from_time1',\n",
       "       'thursday_to_time1', 'thursday_from_time2', 'thursday_to_time2',\n",
       "       'friday_from_time1', 'friday_to_time1', 'friday_from_time2',\n",
       "       'friday_to_time2', 'saturday_from_time1', 'saturday_to_time1',\n",
       "       'saturday_from_time2', 'saturday_to_time2', 'primary_tags',\n",
       "       'open_close_flags', 'vendor_tag', 'vendor_tag_name', 'one_click_vendor',\n",
       "       'country_id', 'city_id', 'created_at', 'updated_at', 'device_type',\n",
       "       'display_orders'],\n",
       "      dtype='object')"
      ]
     },
     "execution_count": 74,
     "metadata": {},
     "output_type": "execute_result"
    }
   ],
   "source": [
    "vendors.columns"
   ]
  },
  {
   "cell_type": "code",
   "execution_count": 77,
   "id": "oriented-lending",
   "metadata": {},
   "outputs": [],
   "source": [
    "orders_2 = orders.merge(vendors, left_on='vendor_id', right_on='id', how='inner')"
   ]
  },
  {
   "cell_type": "code",
   "execution_count": 78,
   "id": "hydraulic-skiing",
   "metadata": {},
   "outputs": [
    {
     "data": {
      "text/plain": [
       "Index(['akeed_order_id', 'customer_id', 'item_count', 'grand_total',\n",
       "       'payment_mode', 'promo_code', 'vendor_discount_amount',\n",
       "       'promo_code_discount_percentage', 'is_favorite', 'is_rated',\n",
       "       'vendor_rating_x', 'driver_rating', 'deliverydistance',\n",
       "       'preparationtime', 'delivery_time', 'order_accepted_time',\n",
       "       'driver_accepted_time', 'ready_for_pickup_time', 'picked_up_time',\n",
       "       'delivered_time', 'delivery_date', 'vendor_id', 'created_at_x',\n",
       "       'LOCATION_NUMBER', 'LOCATION_TYPE', 'CID X LOC_NUM X VENDOR',\n",
       "       'fare-bin', 'id', 'authentication_id', 'latitude', 'longitude',\n",
       "       'vendor_category_en', 'vendor_category_id', 'delivery_charge',\n",
       "       'serving_distance', 'is_open', 'OpeningTime', 'OpeningTime2',\n",
       "       'prepration_time', 'commission', 'is_akeed_delivering',\n",
       "       'discount_percentage', 'status', 'verified', 'rank', 'language',\n",
       "       'vendor_rating_y', 'sunday_from_time1', 'sunday_to_time1',\n",
       "       'sunday_from_time2', 'sunday_to_time2', 'monday_from_time1',\n",
       "       'monday_to_time1', 'monday_from_time2', 'monday_to_time2',\n",
       "       'tuesday_from_time1', 'tuesday_to_time1', 'tuesday_from_time2',\n",
       "       'tuesday_to_time2', 'wednesday_from_time1', 'wednesday_to_time1',\n",
       "       'wednesday_from_time2', 'wednesday_to_time2', 'thursday_from_time1',\n",
       "       'thursday_to_time1', 'thursday_from_time2', 'thursday_to_time2',\n",
       "       'friday_from_time1', 'friday_to_time1', 'friday_from_time2',\n",
       "       'friday_to_time2', 'saturday_from_time1', 'saturday_to_time1',\n",
       "       'saturday_from_time2', 'saturday_to_time2', 'primary_tags',\n",
       "       'open_close_flags', 'vendor_tag', 'vendor_tag_name', 'one_click_vendor',\n",
       "       'country_id', 'city_id', 'created_at_y', 'updated_at', 'device_type',\n",
       "       'display_orders'],\n",
       "      dtype='object')"
      ]
     },
     "execution_count": 78,
     "metadata": {},
     "output_type": "execute_result"
    }
   ],
   "source": [
    "orders_2.columns"
   ]
  },
  {
   "cell_type": "code",
   "execution_count": 79,
   "id": "hundred-formation",
   "metadata": {},
   "outputs": [],
   "source": [
    "# make sur your install folium first\n",
    "import folium\n",
    "from folium.plugins import HeatMap\n",
    "from folium.plugins import HeatMapWithTime"
   ]
  },
  {
   "cell_type": "code",
   "execution_count": 82,
   "id": "committed-stylus",
   "metadata": {},
   "outputs": [],
   "source": [
    "center_location = [40.758896, -73.985130]\n",
    "m = folium.Map(location=center_location, control_scale=True, zoom_start=2)"
   ]
  },
  {
   "cell_type": "code",
   "execution_count": 88,
   "id": "irish-jerusalem",
   "metadata": {},
   "outputs": [
    {
     "data": {
      "text/html": [
       "<div>\n",
       "<style scoped>\n",
       "    .dataframe tbody tr th:only-of-type {\n",
       "        vertical-align: middle;\n",
       "    }\n",
       "\n",
       "    .dataframe tbody tr th {\n",
       "        vertical-align: top;\n",
       "    }\n",
       "\n",
       "    .dataframe thead th {\n",
       "        text-align: right;\n",
       "    }\n",
       "</style>\n",
       "<table border=\"1\" class=\"dataframe\">\n",
       "  <thead>\n",
       "    <tr style=\"text-align: right;\">\n",
       "      <th></th>\n",
       "      <th>latitude</th>\n",
       "      <th>longitude</th>\n",
       "    </tr>\n",
       "  </thead>\n",
       "  <tbody>\n",
       "    <tr>\n",
       "      <th>135298</th>\n",
       "      <td>-0.33434</td>\n",
       "      <td>0.726333</td>\n",
       "    </tr>\n",
       "    <tr>\n",
       "      <th>135299</th>\n",
       "      <td>-0.33434</td>\n",
       "      <td>0.726333</td>\n",
       "    </tr>\n",
       "    <tr>\n",
       "      <th>135300</th>\n",
       "      <td>-0.33434</td>\n",
       "      <td>0.726333</td>\n",
       "    </tr>\n",
       "    <tr>\n",
       "      <th>135301</th>\n",
       "      <td>-0.33434</td>\n",
       "      <td>0.726333</td>\n",
       "    </tr>\n",
       "    <tr>\n",
       "      <th>135302</th>\n",
       "      <td>-0.33434</td>\n",
       "      <td>0.726333</td>\n",
       "    </tr>\n",
       "  </tbody>\n",
       "</table>\n",
       "</div>"
      ],
      "text/plain": [
       "        latitude  longitude\n",
       "135298  -0.33434   0.726333\n",
       "135299  -0.33434   0.726333\n",
       "135300  -0.33434   0.726333\n",
       "135301  -0.33434   0.726333\n",
       "135302  -0.33434   0.726333"
      ]
     },
     "execution_count": 88,
     "metadata": {},
     "output_type": "execute_result"
    }
   ],
   "source": [
    "orders_2[['latitude', 'longitude']].tail()"
   ]
  },
  {
   "cell_type": "code",
   "execution_count": null,
   "id": "excessive-place",
   "metadata": {},
   "outputs": [],
   "source": [
    "orders_2"
   ]
  },
  {
   "cell_type": "code",
   "execution_count": 93,
   "id": "polished-awareness",
   "metadata": {},
   "outputs": [],
   "source": [
    "orders_2 = orders_2[orders_2.latitude < 50]"
   ]
  },
  {
   "cell_type": "code",
   "execution_count": null,
   "id": "neutral-tuition",
   "metadata": {},
   "outputs": [],
   "source": [
    "orders_2"
   ]
  },
  {
   "cell_type": "code",
   "execution_count": 94,
   "id": "given-enemy",
   "metadata": {},
   "outputs": [
    {
     "data": {
      "text/plain": [
       "<seaborn.axisgrid.FacetGrid at 0x7f232efa54c0>"
      ]
     },
     "execution_count": 94,
     "metadata": {},
     "output_type": "execute_result"
    },
    {
     "data": {
      "image/png": "[encoded data removed]",
      "text/plain": [
       "<Figure size 360x360 with 1 Axes>"
      ]
     },
     "metadata": {},
     "output_type": "display_data"
    }
   ],
   "source": [
    "sns.catplot(x='latitude', data=orders_2, kind=\"box\")"
   ]
  },
  {
   "cell_type": "code",
   "execution_count": 95,
   "id": "medium-phone",
   "metadata": {},
   "outputs": [
    {
     "data": {
      "text/plain": [
       "<seaborn.axisgrid.FacetGrid at 0x7f23315bf970>"
      ]
     },
     "execution_count": 95,
     "metadata": {},
     "output_type": "execute_result"
    },
    {
     "data": {
      "image/png": "[encoded data removed]",
      "text/plain": [
       "<Figure size 360x360 with 1 Axes>"
      ]
     },
     "metadata": {},
     "output_type": "display_data"
    }
   ],
   "source": [
    "sns.catplot(x='longitude', data=orders_2, kind=\"box\")"
   ]
  },
  {
   "cell_type": "code",
   "execution_count": 87,
   "id": "collected-provider",
   "metadata": {},
   "outputs": [
    {
     "data": {
      "text/html": [
       "<div style=\"width:100%;\"><div style=\"position:relative;width:100%;height:0;padding-bottom:60%;\"><span style=\"color:#565656\">Make this Notebook Trusted to load map: File -> Trust Notebook</span><iframe src=\"about:blank\" style=\"position:absolute;width:100%;height:100%;left:0;top:0;border:none !important;\" data-html=%3C%21DOCTYPE%20html%3E%0A%3Chead%3E%20%20%20%20%0A%20%20%20%20%3Cmeta%20http-equiv%3D%22content-type%22%20content%3D%22text/html%3B%20charset%3DUTF-8%22%20/%3E%0A%20%20%20%20%0A%20%20%20%20%20%20%20%20%3Cscript%3E%0A%20%20%20%20%20%20%20%20%20%20%20%20L_NO_TOUCH%20%3D%20false%3B%0A%20%20%20%20%20%20%20%20%20%20%20%20L_DISABLE_3D%20%3D%20false%3B%0A%20%20%20%20%20%20%20%20%3C/script%3E%0A%20%20%20%20%0A%20%20%20%20%3Cstyle%3Ehtml%2C%20body%20%7Bwidth%3A%20100%25%3Bheight%3A%20100%25%3Bmargin%3A%200%3Bpadding%3A%200%3B%7D%3C/style%3E%0A%20%20%20%20%3Cstyle%3E%23map%20%7Bposition%3Aabsolute%3Btop%3A0%3Bbottom%3A0%3Bright%3A0%3Bleft%3A0%3B%7D%3C/style%3E%0A%20%20%20%20%3Cscript%20src%3D%22https%3A//cdn.jsdelivr.net/npm/leaflet%401.6.0/dist/leaflet.js%22%3E%3C/script%3E%0A%20%20%20%20%3Cscript%20src%3D%22https%3A//code.jquery.com/jquery-1.12.4.min.js%22%3E%3C/script%3E%0A%20%20%20%20%3Cscript%20src%3D%22https%3A//maxcdn.bootstrapcdn.com/bootstrap/3.2.0/js/bootstrap.min.js%22%3E%3C/script%3E%0A%20%20%20%20%3Cscript%20src%3D%22https%3A//cdnjs.cloudflare.com/ajax/libs/Leaflet.awesome-markers/2.0.2/leaflet.awesome-markers.js%22%3E%3C/script%3E%0A%20%20%20%20%3Clink%20rel%3D%22stylesheet%22%20href%3D%22https%3A//cdn.jsdelivr.net/npm/leaflet%401.6.0/dist/leaflet.css%22/%3E%0A%20%20%20%20%3Clink%20rel%3D%22stylesheet%22%20href%3D%22https%3A//maxcdn.bootstrapcdn.com/bootstrap/3.2.0/css/bootstrap.min.css%22/%3E%0A%20%20%20%20%3Clink%20rel%3D%22stylesheet%22%20href%3D%22https%3A//maxcdn.bootstrapcdn.com/bootstrap/3.2.0/css/bootstrap-theme.min.css%22/%3E%0A%20%20%20%20%3Clink%20rel%3D%22stylesheet%22%20href%3D%22https%3A//maxcdn.bootstrapcdn.com/font-awesome/4.6.3/css/font-awesome.min.css%22/%3E%0A%20%20%20%20%3Clink%20rel%3D%22stylesheet%22%20href%3D%22https%3A//cdnjs.cloudflare.com/ajax/libs/Leaflet.awesome-markers/2.0.2/leaflet.awesome-markers.css%22/%3E%0A%20%20%20%20%3Clink%20rel%3D%22stylesheet%22%20href%3D%22https%3A//cdn.jsdelivr.net/gh/python-visualization/folium/folium/templates/leaflet.awesome.rotate.min.css%22/%3E%0A%20%20%20%20%0A%20%20%20%20%20%20%20%20%20%20%20%20%3Cmeta%20name%3D%22viewport%22%20content%3D%22width%3Ddevice-width%2C%0A%20%20%20%20%20%20%20%20%20%20%20%20%20%20%20%20initial-scale%3D1.0%2C%20maximum-scale%3D1.0%2C%20user-scalable%3Dno%22%20/%3E%0A%20%20%20%20%20%20%20%20%20%20%20%20%3Cstyle%3E%0A%20%20%20%20%20%20%20%20%20%20%20%20%20%20%20%20%23map_6d2e1d9f57c8438f879b11e0211a9948%20%7B%0A%20%20%20%20%20%20%20%20%20%20%20%20%20%20%20%20%20%20%20%20position%3A%20relative%3B%0A%20%20%20%20%20%20%20%20%20%20%20%20%20%20%20%20%20%20%20%20width%3A%20100.0%25%3B%0A%20%20%20%20%20%20%20%20%20%20%20%20%20%20%20%20%20%20%20%20height%3A%20100.0%25%3B%0A%20%20%20%20%20%20%20%20%20%20%20%20%20%20%20%20%20%20%20%20left%3A%200.0%25%3B%0A%20%20%20%20%20%20%20%20%20%20%20%20%20%20%20%20%20%20%20%20top%3A%200.0%25%3B%0A%20%20%20%20%20%20%20%20%20%20%20%20%20%20%20%20%7D%0A%20%20%20%20%20%20%20%20%20%20%20%20%3C/style%3E%0A%20%20%20%20%20%20%20%20%0A%20%20%20%20%3Cscript%20src%3D%22https%3A//cdn.jsdelivr.net/gh/python-visualization/folium%40master/folium/templates/leaflet_heat.min.js%22%3E%3C/script%3E%0A%3C/head%3E%0A%3Cbody%3E%20%20%20%20%0A%20%20%20%20%0A%20%20%20%20%20%20%20%20%20%20%20%20%3Cdiv%20class%3D%22folium-map%22%20id%3D%22map_6d2e1d9f57c8438f879b11e0211a9948%22%20%3E%3C/div%3E%0A%20%20%20%20%20%20%20%20%0A%3C/body%3E%0A%3Cscript%3E%20%20%20%20%0A%20%20%20%20%0A%20%20%20%20%20%20%20%20%20%20%20%20var%20map_6d2e1d9f57c8438f879b11e0211a9948%20%3D%20L.map%28%0A%20%20%20%20%20%20%20%20%20%20%20%20%20%20%20%20%22map_6d2e1d9f57c8438f879b11e0211a9948%22%2C%0A%20%20%20%20%20%20%20%20%20%20%20%20%20%20%20%20%7B%0A%20%20%20%20%20%20%20%20%20%20%20%20%20%20%20%20%20%20%20%20center%3A%20%5B40.758896%2C%20-73.98513%5D%2C%0A%20%20%20%20%20%20%20%20%20%20%20%20%20%20%20%20%20%20%20%20crs%3A%20L.CRS.EPSG3857%2C%0A%20%20%20%20%20%20%20%20%20%20%20%20%20%20%20%20%20%20%20%20zoom%3A%202%2C%0A%20%20%20%20%20%20%20%20%20%20%20%20%20%20%20%20%20%20%20%20zoomControl%3A%20true%2C%0A%20%20%20%20%20%20%20%20%20%20%20%20%20%20%20%20%20%20%20%20preferCanvas%3A%20false%2C%0A%20%20%20%20%20%20%20%20%20%20%20%20%20%20%20%20%7D%0A%20%20%20%20%20%20%20%20%20%20%20%20%29%3B%0A%20%20%20%20%20%20%20%20%20%20%20%20L.control.scale%28%29.addTo%28map_6d2e1d9f57c8438f879b11e0211a9948%29%3B%0A%0A%20%20%20%20%20%20%20%20%20%20%20%20%0A%0A%20%20%20%20%20%20%20%20%0A%20%20%20%20%0A%20%20%20%20%20%20%20%20%20%20%20%20var%20tile_layer_94754158bf32447f9fe7d6c086dbb58f%20%3D%20L.tileLayer%28%0A%20%20%20%20%20%20%20%20%20%20%20%20%20%20%20%20%22https%3A//%7Bs%7D.tile.openstreetmap.org/%7Bz%7D/%7Bx%7D/%7By%7D.png%22%2C%0A%20%20%20%20%20%20%20%20%20%20%20%20%20%20%20%20%7B%22attribution%22%3A%20%22Data%20by%20%5Cu0026copy%3B%20%5Cu003ca%20href%3D%5C%22http%3A//openstreetmap.org%5C%22%5Cu003eOpenStreetMap%5Cu003c/a%5Cu003e%2C%20under%20%5Cu003ca%20href%3D%5C%22http%3A//www.openstreetmap.org/copyright%5C%22%5Cu003eODbL%5Cu003c/a%5Cu003e.%22%2C%20%22detectRetina%22%3A%20false%2C%20%22maxNativeZoom%22%3A%2018%2C%20%22maxZoom%22%3A%2018%2C%20%22minZoom%22%3A%200%2C%20%22noWrap%22%3A%20false%2C%20%22opacity%22%3A%201%2C%20%22subdomains%22%3A%20%22abc%22%2C%20%22tms%22%3A%20false%7D%0A%20%20%20%20%20%20%20%20%20%20%20%20%29.addTo%28map_6d2e1d9f57c8438f879b11e0211a9948%29%3B%0A%20%20%20%20%20%20%20%20%0A%20%20%20%20%0A%20%20%20%20%20%20%20%20%20%20%20%20var%20heat_map_8b461f3bac624a379bfbb37b02c4e17e%20%3D%20L.heatLayer%28%0A%20%20%20%20%20%20%20%20%20%20%20%20%20%20%20%20%5B%5B-1.7874134615384565%2C%200.006934090908847%2C%20512.0%5D%2C%20%5B-1.5880596153847006%2C%20-0.0664411363635964%2C%201067.0%5D%2C%20%5B-1.271978846153839%2C%200.028831818181581%2C%20587.0%5D%2C%20%5B-1.269317307692352%2C%200.082343181818184%2C%20622.0%5D%2C%20%5B-1.2674634615365183%2C%200.0283613636363615%2C%20562.0%5D%2C%20%5B-1.1701538461538554%2C%200.1034772727271104%2C%20751.0%5D%2C%20%5B-1.0589461538461884%2C%200.0515679545454458%2C%20606.0%5D%2C%20%5B-1.0073846153846229%2C%200.0792204545453472%2C%20750.0%5D%2C%20%5B-1.004923076923082%2C%200.0787363636363481%2C%205001.0%5D%2C%20%5B-1.002136538459656%2C%200.0786093181818521%2C%203280.0%5D%2C%20%5B-0.9960634615385074%2C%20-0.0622829545455261%2C%201305.0%5D%2C%20%5B-0.9677692307692346%2C%200.0808386363635615%2C%205562.0%5D%2C%20%5B-0.9434192307692368%2C%200.0817022727270359%2C%20889.0%5D%2C%20%5B-0.9369615384615744%2C%200.080825909091073%2C%20702.0%5D%2C%20%5B-0.9365557692307772%2C%200.0819329545453459%2C%201417.0%5D%2C%20%5B-0.9339807692308154%2C%200.0813647727272905%2C%20892.0%5D%2C%20%5B-0.927944230769241%2C%200.1458995454543045%2C%203684.0%5D%2C%20%5B-0.8842424245981165%2C%20-0.127519087357959%2C%201028.0%5D%2C%20%5B-0.8720192307692582%2C%200.0994340909090921%2C%20994.0%5D%2C%20%5B-0.8610730769230842%2C%20-0.0651465909093286%2C%20646.0%5D%2C%20%5B-0.8568561198788782%2C%200.087738003241582%2C%202088.0%5D%2C%20%5B-0.8450961538461755%2C%200.0670131818182866%2C%201647.0%5D%2C%20%5B-0.8259038461538837%2C%20-0.0664272727272807%2C%201682.0%5D%2C%20%5B-0.8188096153846912%2C%200.1351238636363022%2C%201017.0%5D%2C%20%5B-0.815323318553912%2C%200.0914912908724802%2C%201245.0%5D%2C%20%5B-0.80705769230776%2C%200.0913681818178771%2C%20765.0%5D%2C%20%5B-0.7549000000000428%2C%200.2197102272727858%2C%20753.0%5D%2C%20%5B-0.7119615384615503%2C%200.0633681818179358%2C%20890.0%5D%2C%20%5B-0.7044673076923292%2C%200.0569547727272672%2C%201904.0%5D%2C%20%5B-0.6313000000000233%2C%200.180567499999996%2C%20629.0%5D%2C%20%5B-0.6251269230769545%2C%200.0994390909090859%2C%20612.0%5D%2C%20%5B-0.6247019230769071%2C%200.7251199999997648%2C%201118.0%5D%2C%20%5B-0.6106923076923403%2C%200.0720909090909417%2C%20589.0%5D%2C%20%5B-0.6058922840442468%2C%200.0729530596036363%2C%201046.0%5D%2C%20%5B-0.6010961538461602%2C%200.0959977272724904%2C%201581.0%5D%2C%20%5B-0.6004230769230746%2C%200.7559090909091579%2C%201151.0%5D%2C%20%5B-0.6001730769230909%2C%200.7558613636363735%2C%202054.0%5D%2C%20%5B-0.5998653846153555%2C%200.7562443181818139%2C%202090.0%5D%2C%20%5B-0.5953249999999973%2C%200.0956388636363093%2C%201076.0%5D%2C%20%5B-0.5912730769230697%2C%200.0955986363636933%2C%201442.0%5D%2C%20%5B-0.588596153846155%2C%200.7544340909088447%2C%202137.0%5D%2C%20%5B-0.5875980769230975%2C%200.7541936363633901%2C%20900.0%5D%2C%20%5B-0.5853846153845947%2C%200.753811363636301%2C%20920.0%5D%2C%20%5B-0.5583846153845782%2C%200.7407568181818039%2C%20812.0%5D%2C%20%5B-0.5554038461538193%2C%200.1963363636363634%2C%204643.0%5D%2C%20%5B-0.5237192307691679%2C%200.0526545454545903%2C%201255.0%5D%2C%20%5B-0.5115842210827595%2C%200.7583079432920903%2C%20503.0%5D%2C%20%5B-0.4981346153846108%2C%200.0580172727272977%2C%202837.0%5D%2C%20%5B-0.4961384615384956%2C%200.7402140909090968%2C%20647.0%5D%2C%20%5B-0.4946538461538846%2C%200.7433181818182409%2C%201938.0%5D%2C%20%5B-0.4921884615384525%2C%200.7441604545452798%2C%201527.0%5D%2C%20%5B-0.491307692307707%2C%200.7447204545456068%2C%20474.0%5D%2C%20%5B-0.4828653846153978%2C%200.0759886363636465%2C%201078.0%5D%2C%20%5B-0.4764000000000215%2C%200.0397399999997592%2C%20827.0%5D%2C%20%5B-0.4716538461538806%2C%200.7444704545454467%2C%20731.0%5D%2C%20%5B-0.44182307692315%2C%200.0994793181817988%2C%202559.0%5D%2C%20%5B-0.4401094895692907%2C%200.6625680487740839%2C%20781.0%5D%2C%20%5B-0.4171923076923128%2C%200.6458500000000037%2C%20806.0%5D%2C%20%5B-0.4151923076923066%2C%200.6435499999999971%2C%20729.0%5D%2C%20%5B-0.4075269230769128%2C%200.6436806818179458%2C%201587.0%5D%2C%20%5B-0.4056604120789125%2C%200.644401369039313%2C%20902.0%5D%2C%20%5B-0.3343403846134433%2C%200.7263329545451348%2C%20559.0%5D%2C%20%5B-0.1858249999999742%2C%200.4824509090909494%2C%20583.0%5D%2C%20%5B-0.1810384615385233%2C%200.4905181818181887%2C%20608.0%5D%2C%20%5B-0.1169038461538417%2C%200.1815831818183232%2C%20747.0%5D%2C%20%5B-0.1161730769230728%2C%200.5707072727273654%2C%20617.0%5D%2C%20%5B-0.1150096153846109%2C%200.5459734090908435%2C%201083.0%5D%2C%20%5B-0.0600477365346404%2C%200.6526298522949375%2C%201621.0%5D%2C%20%5B-0.056273076923028%2C%200.6322886363636278%2C%201355.0%5D%2C%20%5B-0.0324423076923163%2C%200.6556363636363828%2C%201705.0%5D%2C%20%5B-0.0276538461538516%2C%200.5273459090909257%2C%20579.0%5D%2C%20%5B-0.0168288461538807%2C%200.5145802272725669%2C%20862.0%5D%2C%20%5B0.0019038461538219%2C%200.5471545454545724%2C%20800.0%5D%2C%20%5B0.0057480769230212%2C%200.482280909090949%2C%20839.0%5D%2C%20%5B0.0156230769230266%2C%200.5316281818181806%2C%20962.0%5D%2C%20%5B0.0167923076922569%2C%200.5479409090910177%2C%201283.0%5D%2C%20%5B0.0198173076922852%2C%200.5870874999998449%2C%20860.0%5D%2C%20%5B0.0258211538481081%2C%200.5515938636360602%2C%20853.0%5D%2C%20%5B0.0258211538481081%2C%200.5515938636361248%2C%201013.0%5D%2C%20%5B0.0262057692307276%2C%200.5525875000000042%2C%20703.0%5D%2C%20%5B0.0490192307691995%2C%200.6053684090909168%2C%201284.0%5D%2C%20%5B0.0558846153846044%2C%200.5339954545452126%2C%201746.0%5D%2C%20%5B0.2514692307692175%2C%200.4836324999999767%2C%201054.0%5D%2C%20%5B0.2563346153846161%2C%200.5766695454543093%2C%20731.0%5D%2C%20%5B0.3053212199224581%2C%200.559974383845152%2C%20607.0%5D%2C%20%5B0.4806019230769256%2C%200.5528504545454149%2C%201537.0%5D%2C%20%5B0.4874884615383899%2C%200.5650499999999972%2C%20592.0%5D%2C%20%5B0.5535730769231084%2C%200.5313611363638088%2C%201468.0%5D%2C%20%5B0.5788653846154262%2C%200.528270454545456%2C%20593.0%5D%2C%20%5B0.6140942307692555%2C%200.5274327272726442%2C%201125.0%5D%2C%20%5B0.6186153846153633%2C%200.5271931818182224%2C%202263.0%5D%2C%20%5B0.6301346153846158%2C%200.5270522727271684%2C%207807.0%5D%2C%20%5B0.6346538461538463%2C%200.5272545454546894%2C%205117.0%5D%2C%20%5B1.7031192316153734%2C%200.7599580436756791%2C%201644.0%5D%2C%20%5B2.0156153846153813%2C%200.749220454545614%2C%201503.0%5D%2C%20%5B2.14520576923076%2C%200.745025454545473%2C%20831.0%5D%2C%20%5B2.2156923076923287%2C%200.7140181818181905%2C%20859.0%5D%2C%20%5B2.3377538461538085%2C%200.6995749999999297%2C%20657.0%5D%2C%20%5B13.335130769230892%2C%20-1.4495563636363662%2C%20614.0%5D%2C%20%5B205.24232692307848%2C%2044.21080681818204%2C%20810.0%5D%5D%2C%0A%20%20%20%20%20%20%20%20%20%20%20%20%20%20%20%20%7B%22blur%22%3A%2015%2C%20%22gradient%22%3A%20%7B%220.2%22%3A%20%22blue%22%2C%20%220.4%22%3A%20%22lime%22%2C%20%220.6%22%3A%20%22orange%22%2C%20%221%22%3A%20%22red%22%7D%2C%20%22maxZoom%22%3A%2013%2C%20%22minOpacity%22%3A%200.5%2C%20%22radius%22%3A%205%7D%0A%20%20%20%20%20%20%20%20%20%20%20%20%29.addTo%28map_6d2e1d9f57c8438f879b11e0211a9948%29%3B%0A%20%20%20%20%20%20%20%20%0A%20%20%20%20%0A%20%20%20%20%20%20%20%20%20%20%20%20var%20heat_map_77c4662a1d6949fba581b2854aac04fa%20%3D%20L.heatLayer%28%0A%20%20%20%20%20%20%20%20%20%20%20%20%20%20%20%20%5B%5B-1.4495563636363662%2C%2013.335130769230892%2C%20614.0%5D%2C%20%5B-0.127519087357959%2C%20-0.8842424245981165%2C%201028.0%5D%2C%20%5B-0.0664411363635964%2C%20-1.5880596153847006%2C%201067.0%5D%2C%20%5B-0.0664272727272807%2C%20-0.8259038461538837%2C%201682.0%5D%2C%20%5B-0.0651465909093286%2C%20-0.8610730769230842%2C%20646.0%5D%2C%20%5B-0.0622829545455261%2C%20-0.9960634615385074%2C%201305.0%5D%2C%20%5B0.006934090908847%2C%20-1.7874134615384565%2C%20512.0%5D%2C%20%5B0.0283613636363615%2C%20-1.2674634615365183%2C%20562.0%5D%2C%20%5B0.028831818181581%2C%20-1.271978846153839%2C%20587.0%5D%2C%20%5B0.0397399999997592%2C%20-0.4764000000000215%2C%20827.0%5D%2C%20%5B0.0515679545454458%2C%20-1.0589461538461884%2C%20606.0%5D%2C%20%5B0.0526545454545903%2C%20-0.5237192307691679%2C%201255.0%5D%2C%20%5B0.0569547727272672%2C%20-0.7044673076923292%2C%201904.0%5D%2C%20%5B0.0580172727272977%2C%20-0.4981346153846108%2C%202837.0%5D%2C%20%5B0.0633681818179358%2C%20-0.7119615384615503%2C%20890.0%5D%2C%20%5B0.0670131818182866%2C%20-0.8450961538461755%2C%201647.0%5D%2C%20%5B0.0720909090909417%2C%20-0.6106923076923403%2C%20589.0%5D%2C%20%5B0.0729530596036363%2C%20-0.6058922840442468%2C%201046.0%5D%2C%20%5B0.0759886363636465%2C%20-0.4828653846153978%2C%201078.0%5D%2C%20%5B0.0786093181818521%2C%20-1.002136538459656%2C%203280.0%5D%2C%20%5B0.0787363636363481%2C%20-1.004923076923082%2C%205001.0%5D%2C%20%5B0.0792204545453472%2C%20-1.0073846153846229%2C%20750.0%5D%2C%20%5B0.080825909091073%2C%20-0.9369615384615744%2C%20702.0%5D%2C%20%5B0.0808386363635615%2C%20-0.9677692307692346%2C%205562.0%5D%2C%20%5B0.0813647727272905%2C%20-0.9339807692308154%2C%20892.0%5D%2C%20%5B0.0817022727270359%2C%20-0.9434192307692368%2C%20889.0%5D%2C%20%5B0.0819329545453459%2C%20-0.9365557692307772%2C%201417.0%5D%2C%20%5B0.082343181818184%2C%20-1.269317307692352%2C%20622.0%5D%2C%20%5B0.087738003241582%2C%20-0.8568561198788782%2C%202088.0%5D%2C%20%5B0.0913681818178771%2C%20-0.80705769230776%2C%20765.0%5D%2C%20%5B0.0914912908724802%2C%20-0.815323318553912%2C%201245.0%5D%2C%20%5B0.0955986363636933%2C%20-0.5912730769230697%2C%201442.0%5D%2C%20%5B0.0956388636363093%2C%20-0.5953249999999973%2C%201076.0%5D%2C%20%5B0.0959977272724904%2C%20-0.6010961538461602%2C%201581.0%5D%2C%20%5B0.0994340909090921%2C%20-0.8720192307692582%2C%20994.0%5D%2C%20%5B0.0994390909090859%2C%20-0.6251269230769545%2C%20612.0%5D%2C%20%5B0.0994793181817988%2C%20-0.44182307692315%2C%202559.0%5D%2C%20%5B0.1034772727271104%2C%20-1.1701538461538554%2C%20751.0%5D%2C%20%5B0.1351238636363022%2C%20-0.8188096153846912%2C%201017.0%5D%2C%20%5B0.1458995454543045%2C%20-0.927944230769241%2C%203684.0%5D%2C%20%5B0.180567499999996%2C%20-0.6313000000000233%2C%20629.0%5D%2C%20%5B0.1815831818183232%2C%20-0.1169038461538417%2C%20747.0%5D%2C%20%5B0.1963363636363634%2C%20-0.5554038461538193%2C%204643.0%5D%2C%20%5B0.2197102272727858%2C%20-0.7549000000000428%2C%20753.0%5D%2C%20%5B0.482280909090949%2C%200.0057480769230212%2C%20839.0%5D%2C%20%5B0.4824509090909494%2C%20-0.1858249999999742%2C%20583.0%5D%2C%20%5B0.4836324999999767%2C%200.2514692307692175%2C%201054.0%5D%2C%20%5B0.4905181818181887%2C%20-0.1810384615385233%2C%20608.0%5D%2C%20%5B0.5145802272725669%2C%20-0.0168288461538807%2C%20862.0%5D%2C%20%5B0.5270522727271684%2C%200.6301346153846158%2C%207807.0%5D%2C%20%5B0.5271931818182224%2C%200.6186153846153633%2C%202263.0%5D%2C%20%5B0.5272545454546894%2C%200.6346538461538463%2C%205117.0%5D%2C%20%5B0.5273459090909257%2C%20-0.0276538461538516%2C%20579.0%5D%2C%20%5B0.5274327272726442%2C%200.6140942307692555%2C%201125.0%5D%2C%20%5B0.528270454545456%2C%200.5788653846154262%2C%20593.0%5D%2C%20%5B0.5313611363638088%2C%200.5535730769231084%2C%201468.0%5D%2C%20%5B0.5316281818181806%2C%200.0156230769230266%2C%20962.0%5D%2C%20%5B0.5339954545452126%2C%200.0558846153846044%2C%201746.0%5D%2C%20%5B0.5459734090908435%2C%20-0.1150096153846109%2C%201083.0%5D%2C%20%5B0.5471545454545724%2C%200.0019038461538219%2C%20800.0%5D%2C%20%5B0.5479409090910177%2C%200.0167923076922569%2C%201283.0%5D%2C%20%5B0.5515938636360602%2C%200.0258211538481081%2C%20853.0%5D%2C%20%5B0.5515938636361248%2C%200.0258211538481081%2C%201013.0%5D%2C%20%5B0.5525875000000042%2C%200.0262057692307276%2C%20703.0%5D%2C%20%5B0.5528504545454149%2C%200.4806019230769256%2C%201537.0%5D%2C%20%5B0.559974383845152%2C%200.3053212199224581%2C%20607.0%5D%2C%20%5B0.5650499999999972%2C%200.4874884615383899%2C%20592.0%5D%2C%20%5B0.5707072727273654%2C%20-0.1161730769230728%2C%20617.0%5D%2C%20%5B0.5766695454543093%2C%200.2563346153846161%2C%20731.0%5D%2C%20%5B0.5870874999998449%2C%200.0198173076922852%2C%20860.0%5D%2C%20%5B0.6053684090909168%2C%200.0490192307691995%2C%201284.0%5D%2C%20%5B0.6322886363636278%2C%20-0.056273076923028%2C%201355.0%5D%2C%20%5B0.6435499999999971%2C%20-0.4151923076923066%2C%20729.0%5D%2C%20%5B0.6436806818179458%2C%20-0.4075269230769128%2C%201587.0%5D%2C%20%5B0.644401369039313%2C%20-0.4056604120789125%2C%20902.0%5D%2C%20%5B0.6458500000000037%2C%20-0.4171923076923128%2C%20806.0%5D%2C%20%5B0.6526298522949375%2C%20-0.0600477365346404%2C%201621.0%5D%2C%20%5B0.6556363636363828%2C%20-0.0324423076923163%2C%201705.0%5D%2C%20%5B0.6625680487740839%2C%20-0.4401094895692907%2C%20781.0%5D%2C%20%5B0.6995749999999297%2C%202.3377538461538085%2C%20657.0%5D%2C%20%5B0.7140181818181905%2C%202.2156923076923287%2C%20859.0%5D%2C%20%5B0.7251199999997648%2C%20-0.6247019230769071%2C%201118.0%5D%2C%20%5B0.7263329545451348%2C%20-0.3343403846134433%2C%20559.0%5D%2C%20%5B0.7402140909090968%2C%20-0.4961384615384956%2C%20647.0%5D%2C%20%5B0.7407568181818039%2C%20-0.5583846153845782%2C%20812.0%5D%2C%20%5B0.7433181818182409%2C%20-0.4946538461538846%2C%201938.0%5D%2C%20%5B0.7441604545452798%2C%20-0.4921884615384525%2C%201527.0%5D%2C%20%5B0.7444704545454467%2C%20-0.4716538461538806%2C%20731.0%5D%2C%20%5B0.7447204545456068%2C%20-0.491307692307707%2C%20474.0%5D%2C%20%5B0.745025454545473%2C%202.14520576923076%2C%20831.0%5D%2C%20%5B0.749220454545614%2C%202.0156153846153813%2C%201503.0%5D%2C%20%5B0.753811363636301%2C%20-0.5853846153845947%2C%20920.0%5D%2C%20%5B0.7541936363633901%2C%20-0.5875980769230975%2C%20900.0%5D%2C%20%5B0.7544340909088447%2C%20-0.588596153846155%2C%202137.0%5D%2C%20%5B0.7558613636363735%2C%20-0.6001730769230909%2C%202054.0%5D%2C%20%5B0.7559090909091579%2C%20-0.6004230769230746%2C%201151.0%5D%2C%20%5B0.7562443181818139%2C%20-0.5998653846153555%2C%202090.0%5D%2C%20%5B0.7583079432920903%2C%20-0.5115842210827595%2C%20503.0%5D%2C%20%5B0.7599580436756791%2C%201.7031192316153734%2C%201644.0%5D%2C%20%5B44.21080681818204%2C%20205.24232692307848%2C%20810.0%5D%5D%2C%0A%20%20%20%20%20%20%20%20%20%20%20%20%20%20%20%20%7B%22blur%22%3A%2015%2C%20%22gradient%22%3A%20%7B%220.2%22%3A%20%22blue%22%2C%20%220.4%22%3A%20%22lime%22%2C%20%220.6%22%3A%20%22orange%22%2C%20%221%22%3A%20%22red%22%7D%2C%20%22maxZoom%22%3A%2013%2C%20%22minOpacity%22%3A%200.5%2C%20%22radius%22%3A%205%7D%0A%20%20%20%20%20%20%20%20%20%20%20%20%29.addTo%28map_6d2e1d9f57c8438f879b11e0211a9948%29%3B%0A%20%20%20%20%20%20%20%20%0A%20%20%20%20%0A%20%20%20%20%20%20%20%20%20%20%20%20var%20heat_map_dcc8f89b567141b59c04863f4794fc6a%20%3D%20L.heatLayer%28%0A%20%20%20%20%20%20%20%20%20%20%20%20%20%20%20%20%5B%5B-1.7874134615384565%2C%200.006934090908847%2C%20512.0%5D%2C%20%5B-1.5880596153847006%2C%20-0.0664411363635964%2C%201067.0%5D%2C%20%5B-1.271978846153839%2C%200.028831818181581%2C%20587.0%5D%2C%20%5B-1.269317307692352%2C%200.082343181818184%2C%20622.0%5D%2C%20%5B-1.2674634615365183%2C%200.0283613636363615%2C%20562.0%5D%2C%20%5B-1.1701538461538554%2C%200.1034772727271104%2C%20751.0%5D%2C%20%5B-1.0589461538461884%2C%200.0515679545454458%2C%20606.0%5D%2C%20%5B-1.0073846153846229%2C%200.0792204545453472%2C%20750.0%5D%2C%20%5B-1.004923076923082%2C%200.0787363636363481%2C%205001.0%5D%2C%20%5B-1.002136538459656%2C%200.0786093181818521%2C%203280.0%5D%2C%20%5B-0.9960634615385074%2C%20-0.0622829545455261%2C%201305.0%5D%2C%20%5B-0.9677692307692346%2C%200.0808386363635615%2C%205562.0%5D%2C%20%5B-0.9434192307692368%2C%200.0817022727270359%2C%20889.0%5D%2C%20%5B-0.9369615384615744%2C%200.080825909091073%2C%20702.0%5D%2C%20%5B-0.9365557692307772%2C%200.0819329545453459%2C%201417.0%5D%2C%20%5B-0.9339807692308154%2C%200.0813647727272905%2C%20892.0%5D%2C%20%5B-0.927944230769241%2C%200.1458995454543045%2C%203684.0%5D%2C%20%5B-0.8842424245981165%2C%20-0.127519087357959%2C%201028.0%5D%2C%20%5B-0.8720192307692582%2C%200.0994340909090921%2C%20994.0%5D%2C%20%5B-0.8610730769230842%2C%20-0.0651465909093286%2C%20646.0%5D%2C%20%5B-0.8568561198788782%2C%200.087738003241582%2C%202088.0%5D%2C%20%5B-0.8450961538461755%2C%200.0670131818182866%2C%201647.0%5D%2C%20%5B-0.8259038461538837%2C%20-0.0664272727272807%2C%201682.0%5D%2C%20%5B-0.8188096153846912%2C%200.1351238636363022%2C%201017.0%5D%2C%20%5B-0.815323318553912%2C%200.0914912908724802%2C%201245.0%5D%2C%20%5B-0.80705769230776%2C%200.0913681818178771%2C%20765.0%5D%2C%20%5B-0.7549000000000428%2C%200.2197102272727858%2C%20753.0%5D%2C%20%5B-0.7119615384615503%2C%200.0633681818179358%2C%20890.0%5D%2C%20%5B-0.7044673076923292%2C%200.0569547727272672%2C%201904.0%5D%2C%20%5B-0.6313000000000233%2C%200.180567499999996%2C%20629.0%5D%2C%20%5B-0.6251269230769545%2C%200.0994390909090859%2C%20612.0%5D%2C%20%5B-0.6247019230769071%2C%200.7251199999997648%2C%201118.0%5D%2C%20%5B-0.6106923076923403%2C%200.0720909090909417%2C%20589.0%5D%2C%20%5B-0.6058922840442468%2C%200.0729530596036363%2C%201046.0%5D%2C%20%5B-0.6010961538461602%2C%200.0959977272724904%2C%201581.0%5D%2C%20%5B-0.6004230769230746%2C%200.7559090909091579%2C%201151.0%5D%2C%20%5B-0.6001730769230909%2C%200.7558613636363735%2C%202054.0%5D%2C%20%5B-0.5998653846153555%2C%200.7562443181818139%2C%202090.0%5D%2C%20%5B-0.5953249999999973%2C%200.0956388636363093%2C%201076.0%5D%2C%20%5B-0.5912730769230697%2C%200.0955986363636933%2C%201442.0%5D%2C%20%5B-0.588596153846155%2C%200.7544340909088447%2C%202137.0%5D%2C%20%5B-0.5875980769230975%2C%200.7541936363633901%2C%20900.0%5D%2C%20%5B-0.5853846153845947%2C%200.753811363636301%2C%20920.0%5D%2C%20%5B-0.5583846153845782%2C%200.7407568181818039%2C%20812.0%5D%2C%20%5B-0.5554038461538193%2C%200.1963363636363634%2C%204643.0%5D%2C%20%5B-0.5237192307691679%2C%200.0526545454545903%2C%201255.0%5D%2C%20%5B-0.5115842210827595%2C%200.7583079432920903%2C%20503.0%5D%2C%20%5B-0.4981346153846108%2C%200.0580172727272977%2C%202837.0%5D%2C%20%5B-0.4961384615384956%2C%200.7402140909090968%2C%20647.0%5D%2C%20%5B-0.4946538461538846%2C%200.7433181818182409%2C%201938.0%5D%2C%20%5B-0.4921884615384525%2C%200.7441604545452798%2C%201527.0%5D%2C%20%5B-0.491307692307707%2C%200.7447204545456068%2C%20474.0%5D%2C%20%5B-0.4828653846153978%2C%200.0759886363636465%2C%201078.0%5D%2C%20%5B-0.4764000000000215%2C%200.0397399999997592%2C%20827.0%5D%2C%20%5B-0.4716538461538806%2C%200.7444704545454467%2C%20731.0%5D%2C%20%5B-0.44182307692315%2C%200.0994793181817988%2C%202559.0%5D%2C%20%5B-0.4401094895692907%2C%200.6625680487740839%2C%20781.0%5D%2C%20%5B-0.4171923076923128%2C%200.6458500000000037%2C%20806.0%5D%2C%20%5B-0.4151923076923066%2C%200.6435499999999971%2C%20729.0%5D%2C%20%5B-0.4075269230769128%2C%200.6436806818179458%2C%201587.0%5D%2C%20%5B-0.4056604120789125%2C%200.644401369039313%2C%20902.0%5D%2C%20%5B-0.3343403846134433%2C%200.7263329545451348%2C%20559.0%5D%2C%20%5B-0.1858249999999742%2C%200.4824509090909494%2C%20583.0%5D%2C%20%5B-0.1810384615385233%2C%200.4905181818181887%2C%20608.0%5D%2C%20%5B-0.1169038461538417%2C%200.1815831818183232%2C%20747.0%5D%2C%20%5B-0.1161730769230728%2C%200.5707072727273654%2C%20617.0%5D%2C%20%5B-0.1150096153846109%2C%200.5459734090908435%2C%201083.0%5D%2C%20%5B-0.0600477365346404%2C%200.6526298522949375%2C%201621.0%5D%2C%20%5B-0.056273076923028%2C%200.6322886363636278%2C%201355.0%5D%2C%20%5B-0.0324423076923163%2C%200.6556363636363828%2C%201705.0%5D%2C%20%5B-0.0276538461538516%2C%200.5273459090909257%2C%20579.0%5D%2C%20%5B-0.0168288461538807%2C%200.5145802272725669%2C%20862.0%5D%2C%20%5B0.0019038461538219%2C%200.5471545454545724%2C%20800.0%5D%2C%20%5B0.0057480769230212%2C%200.482280909090949%2C%20839.0%5D%2C%20%5B0.0156230769230266%2C%200.5316281818181806%2C%20962.0%5D%2C%20%5B0.0167923076922569%2C%200.5479409090910177%2C%201283.0%5D%2C%20%5B0.0198173076922852%2C%200.5870874999998449%2C%20860.0%5D%2C%20%5B0.0258211538481081%2C%200.5515938636360602%2C%20853.0%5D%2C%20%5B0.0258211538481081%2C%200.5515938636361248%2C%201013.0%5D%2C%20%5B0.0262057692307276%2C%200.5525875000000042%2C%20703.0%5D%2C%20%5B0.0490192307691995%2C%200.6053684090909168%2C%201284.0%5D%2C%20%5B0.0558846153846044%2C%200.5339954545452126%2C%201746.0%5D%2C%20%5B0.2514692307692175%2C%200.4836324999999767%2C%201054.0%5D%2C%20%5B0.2563346153846161%2C%200.5766695454543093%2C%20731.0%5D%2C%20%5B0.3053212199224581%2C%200.559974383845152%2C%20607.0%5D%2C%20%5B0.4806019230769256%2C%200.5528504545454149%2C%201537.0%5D%2C%20%5B0.4874884615383899%2C%200.5650499999999972%2C%20592.0%5D%2C%20%5B0.5535730769231084%2C%200.5313611363638088%2C%201468.0%5D%2C%20%5B0.5788653846154262%2C%200.528270454545456%2C%20593.0%5D%2C%20%5B0.6140942307692555%2C%200.5274327272726442%2C%201125.0%5D%2C%20%5B0.6186153846153633%2C%200.5271931818182224%2C%202263.0%5D%2C%20%5B0.6301346153846158%2C%200.5270522727271684%2C%207807.0%5D%2C%20%5B0.6346538461538463%2C%200.5272545454546894%2C%205117.0%5D%2C%20%5B1.7031192316153734%2C%200.7599580436756791%2C%201644.0%5D%2C%20%5B2.0156153846153813%2C%200.749220454545614%2C%201503.0%5D%2C%20%5B2.14520576923076%2C%200.745025454545473%2C%20831.0%5D%2C%20%5B2.2156923076923287%2C%200.7140181818181905%2C%20859.0%5D%2C%20%5B2.3377538461538085%2C%200.6995749999999297%2C%20657.0%5D%2C%20%5B13.335130769230892%2C%20-1.4495563636363662%2C%20614.0%5D%2C%20%5B205.24232692307848%2C%2044.21080681818204%2C%20810.0%5D%5D%2C%0A%20%20%20%20%20%20%20%20%20%20%20%20%20%20%20%20%7B%22blur%22%3A%2015%2C%20%22gradient%22%3A%20%7B%220.2%22%3A%20%22blue%22%2C%20%220.4%22%3A%20%22lime%22%2C%20%220.6%22%3A%20%22orange%22%2C%20%221%22%3A%20%22red%22%7D%2C%20%22maxZoom%22%3A%205%2C%20%22minOpacity%22%3A%200.5%2C%20%22radius%22%3A%205%7D%0A%20%20%20%20%20%20%20%20%20%20%20%20%29.addTo%28map_6d2e1d9f57c8438f879b11e0211a9948%29%3B%0A%20%20%20%20%20%20%20%20%0A%3C/script%3E onload=\"this.contentDocument.open();this.contentDocument.write(    decodeURIComponent(this.getAttribute('data-html')));this.contentDocument.close();\" allowfullscreen webkitallowfullscreen mozallowfullscreen></iframe></div></div>"
      ],
      "text/plain": [
       "<folium.folium.Map at 0x7f23314d13a0>"
      ]
     },
     "execution_count": 87,
     "metadata": {},
     "output_type": "execute_result"
    }
   ],
   "source": [
    "orders_2[\"map_count\"] = 1\n",
    "heatmap_data = orders_2[['latitude', 'longitude', 'map_count']].groupby(['latitude', 'longitude']).sum().reset_index().values.tolist()\n",
    "gradient = {0.2: 'blue', 0.4: 'lime', 0.6: 'orange', 1: 'red'}\n",
    "HeatMap(data=heatmap_data, radius=5, gradient=gradient, max_zoom=5).add_to(m)\n",
    "m"
   ]
  },
  {
   "cell_type": "code",
   "execution_count": null,
   "id": "frequent-examination",
   "metadata": {},
   "outputs": [],
   "source": []
  },
  {
   "cell_type": "code",
   "execution_count": null,
   "id": "successful-breath",
   "metadata": {},
   "outputs": [],
   "source": []
  },
  {
   "cell_type": "code",
   "execution_count": null,
   "id": "fatal-treasurer",
   "metadata": {},
   "outputs": [],
   "source": []
  },
  {
   "cell_type": "code",
   "execution_count": null,
   "id": "developed-financing",
   "metadata": {},
   "outputs": [],
   "source": []
  },
  {
   "cell_type": "markdown",
   "id": "cross-division",
   "metadata": {
    "heading_collapsed": true
   },
   "source": [
    "# Collaborative filtering: memory based"
   ]
  },
  {
   "cell_type": "code",
   "execution_count": 18,
   "id": "supposed-being",
   "metadata": {
    "hidden": true
   },
   "outputs": [
    {
     "data": {
      "text/plain": [
       "Index(['akeed_order_id', 'customer_id', 'item_count', 'grand_total',\n",
       "       'payment_mode', 'promo_code', 'vendor_discount_amount',\n",
       "       'promo_code_discount_percentage', 'is_favorite', 'is_rated',\n",
       "       'vendor_rating', 'driver_rating', 'deliverydistance', 'preparationtime',\n",
       "       'delivery_time', 'order_accepted_time', 'driver_accepted_time',\n",
       "       'ready_for_pickup_time', 'picked_up_time', 'delivered_time',\n",
       "       'delivery_date', 'vendor_id', 'created_at_x', 'LOCATION_NUMBER',\n",
       "       'LOCATION_TYPE', 'CID X LOC_NUM X VENDOR', 'gender', 'dob', 'status',\n",
       "       'verified', 'language', 'created_at_y', 'updated_at'],\n",
       "      dtype='object')"
      ]
     },
     "execution_count": 18,
     "metadata": {},
     "output_type": "execute_result"
    }
   ],
   "source": [
    "orders_2.columns"
   ]
  },
  {
   "cell_type": "code",
   "execution_count": 19,
   "id": "imperial-smooth",
   "metadata": {
    "hidden": true
   },
   "outputs": [
    {
     "data": {
      "text/plain": [
       "array([nan,  5.,  4.,  2.,  1.,  3.,  0.])"
      ]
     },
     "execution_count": 19,
     "metadata": {},
     "output_type": "execute_result"
    }
   ],
   "source": [
    "orders.vendor_rating.unique()"
   ]
  },
  {
   "cell_type": "code",
   "execution_count": 29,
   "id": "falling-cuisine",
   "metadata": {
    "hidden": true
   },
   "outputs": [],
   "source": [
    "orders_bis = orders[~orders.vendor_rating.isna()]"
   ]
  },
  {
   "cell_type": "code",
   "execution_count": 27,
   "id": "loaded-detection",
   "metadata": {
    "hidden": true
   },
   "outputs": [
    {
     "data": {
      "text/html": [
       "<div>\n",
       "<style scoped>\n",
       "    .dataframe tbody tr th:only-of-type {\n",
       "        vertical-align: middle;\n",
       "    }\n",
       "\n",
       "    .dataframe tbody tr th {\n",
       "        vertical-align: top;\n",
       "    }\n",
       "\n",
       "    .dataframe thead th {\n",
       "        text-align: right;\n",
       "    }\n",
       "</style>\n",
       "<table border=\"1\" class=\"dataframe\">\n",
       "  <thead>\n",
       "    <tr style=\"text-align: right;\">\n",
       "      <th></th>\n",
       "      <th>customer_id</th>\n",
       "      <th>item_count</th>\n",
       "      <th>grand_total</th>\n",
       "      <th>is_favorite</th>\n",
       "      <th>is_rated</th>\n",
       "      <th>vendor_rating</th>\n",
       "      <th>driver_rating</th>\n",
       "    </tr>\n",
       "  </thead>\n",
       "  <tbody>\n",
       "    <tr>\n",
       "      <th>101</th>\n",
       "      <td>OH64IO0</td>\n",
       "      <td>2.0</td>\n",
       "      <td>10.8</td>\n",
       "      <td>NaN</td>\n",
       "      <td>Yes</td>\n",
       "      <td>5.0</td>\n",
       "      <td>5.0</td>\n",
       "    </tr>\n",
       "    <tr>\n",
       "      <th>159</th>\n",
       "      <td>FCPLE31</td>\n",
       "      <td>3.0</td>\n",
       "      <td>28.0</td>\n",
       "      <td>NaN</td>\n",
       "      <td>Yes</td>\n",
       "      <td>5.0</td>\n",
       "      <td>5.0</td>\n",
       "    </tr>\n",
       "    <tr>\n",
       "      <th>175</th>\n",
       "      <td>WB681BO</td>\n",
       "      <td>2.0</td>\n",
       "      <td>11.7</td>\n",
       "      <td>NaN</td>\n",
       "      <td>Yes</td>\n",
       "      <td>4.0</td>\n",
       "      <td>3.0</td>\n",
       "    </tr>\n",
       "    <tr>\n",
       "      <th>272</th>\n",
       "      <td>FS229TW</td>\n",
       "      <td>2.0</td>\n",
       "      <td>9.5</td>\n",
       "      <td>NaN</td>\n",
       "      <td>Yes</td>\n",
       "      <td>4.0</td>\n",
       "      <td>0.0</td>\n",
       "    </tr>\n",
       "    <tr>\n",
       "      <th>453</th>\n",
       "      <td>3P9113W</td>\n",
       "      <td>1.0</td>\n",
       "      <td>9.8</td>\n",
       "      <td>NaN</td>\n",
       "      <td>Yes</td>\n",
       "      <td>5.0</td>\n",
       "      <td>5.0</td>\n",
       "    </tr>\n",
       "    <tr>\n",
       "      <th>...</th>\n",
       "      <td>...</td>\n",
       "      <td>...</td>\n",
       "      <td>...</td>\n",
       "      <td>...</td>\n",
       "      <td>...</td>\n",
       "      <td>...</td>\n",
       "      <td>...</td>\n",
       "    </tr>\n",
       "    <tr>\n",
       "      <th>135283</th>\n",
       "      <td>3S6VG6R</td>\n",
       "      <td>1.0</td>\n",
       "      <td>10.9</td>\n",
       "      <td>No</td>\n",
       "      <td>Yes</td>\n",
       "      <td>5.0</td>\n",
       "      <td>5.0</td>\n",
       "    </tr>\n",
       "    <tr>\n",
       "      <th>135285</th>\n",
       "      <td>CIXLEU0</td>\n",
       "      <td>1.0</td>\n",
       "      <td>7.0</td>\n",
       "      <td>No</td>\n",
       "      <td>Yes</td>\n",
       "      <td>2.0</td>\n",
       "      <td>5.0</td>\n",
       "    </tr>\n",
       "    <tr>\n",
       "      <th>135286</th>\n",
       "      <td>AVD95T0</td>\n",
       "      <td>3.0</td>\n",
       "      <td>12.5</td>\n",
       "      <td>No</td>\n",
       "      <td>Yes</td>\n",
       "      <td>5.0</td>\n",
       "      <td>5.0</td>\n",
       "    </tr>\n",
       "    <tr>\n",
       "      <th>135289</th>\n",
       "      <td>NE6ZHRW</td>\n",
       "      <td>3.0</td>\n",
       "      <td>43.6</td>\n",
       "      <td>Yes</td>\n",
       "      <td>Yes</td>\n",
       "      <td>5.0</td>\n",
       "      <td>5.0</td>\n",
       "    </tr>\n",
       "    <tr>\n",
       "      <th>135299</th>\n",
       "      <td>2GMMVGI</td>\n",
       "      <td>3.0</td>\n",
       "      <td>9.5</td>\n",
       "      <td>No</td>\n",
       "      <td>Yes</td>\n",
       "      <td>5.0</td>\n",
       "      <td>4.0</td>\n",
       "    </tr>\n",
       "  </tbody>\n",
       "</table>\n",
       "<p>45220 rows × 7 columns</p>\n",
       "</div>"
      ],
      "text/plain": [
       "       customer_id  item_count  grand_total is_favorite is_rated  \\\n",
       "101        OH64IO0         2.0         10.8         NaN      Yes   \n",
       "159        FCPLE31         3.0         28.0         NaN      Yes   \n",
       "175        WB681BO         2.0         11.7         NaN      Yes   \n",
       "272        FS229TW         2.0          9.5         NaN      Yes   \n",
       "453        3P9113W         1.0          9.8         NaN      Yes   \n",
       "...            ...         ...          ...         ...      ...   \n",
       "135283     3S6VG6R         1.0         10.9          No      Yes   \n",
       "135285     CIXLEU0         1.0          7.0          No      Yes   \n",
       "135286     AVD95T0         3.0         12.5          No      Yes   \n",
       "135289     NE6ZHRW         3.0         43.6         Yes      Yes   \n",
       "135299     2GMMVGI         3.0          9.5          No      Yes   \n",
       "\n",
       "        vendor_rating  driver_rating  \n",
       "101               5.0            5.0  \n",
       "159               5.0            5.0  \n",
       "175               4.0            3.0  \n",
       "272               4.0            0.0  \n",
       "453               5.0            5.0  \n",
       "...               ...            ...  \n",
       "135283            5.0            5.0  \n",
       "135285            2.0            5.0  \n",
       "135286            5.0            5.0  \n",
       "135289            5.0            5.0  \n",
       "135299            5.0            4.0  \n",
       "\n",
       "[45220 rows x 7 columns]"
      ]
     },
     "execution_count": 27,
     "metadata": {},
     "output_type": "execute_result"
    }
   ],
   "source": [
    "orders_bis[cols]"
   ]
  },
  {
   "cell_type": "code",
   "execution_count": 30,
   "id": "transsexual-glenn",
   "metadata": {
    "hidden": true
   },
   "outputs": [],
   "source": [
    "table = pd.pivot_table(orders_bis, values='vendor_rating', index=['customer_id'], columns=['vendor_id'], aggfunc=np.mean)"
   ]
  },
  {
   "cell_type": "code",
   "execution_count": 31,
   "id": "received-beads",
   "metadata": {
    "hidden": true
   },
   "outputs": [
    {
     "data": {
      "text/html": [
       "<div>\n",
       "<style scoped>\n",
       "    .dataframe tbody tr th:only-of-type {\n",
       "        vertical-align: middle;\n",
       "    }\n",
       "\n",
       "    .dataframe tbody tr th {\n",
       "        vertical-align: top;\n",
       "    }\n",
       "\n",
       "    .dataframe thead th {\n",
       "        text-align: right;\n",
       "    }\n",
       "</style>\n",
       "<table border=\"1\" class=\"dataframe\">\n",
       "  <thead>\n",
       "    <tr style=\"text-align: right;\">\n",
       "      <th>vendor_id</th>\n",
       "      <th>4</th>\n",
       "      <th>13</th>\n",
       "      <th>20</th>\n",
       "      <th>23</th>\n",
       "      <th>28</th>\n",
       "      <th>33</th>\n",
       "      <th>43</th>\n",
       "      <th>44</th>\n",
       "      <th>55</th>\n",
       "      <th>66</th>\n",
       "      <th>...</th>\n",
       "      <th>681</th>\n",
       "      <th>841</th>\n",
       "      <th>843</th>\n",
       "      <th>845</th>\n",
       "      <th>846</th>\n",
       "      <th>849</th>\n",
       "      <th>855</th>\n",
       "      <th>856</th>\n",
       "      <th>858</th>\n",
       "      <th>907</th>\n",
       "    </tr>\n",
       "    <tr>\n",
       "      <th>customer_id</th>\n",
       "      <th></th>\n",
       "      <th></th>\n",
       "      <th></th>\n",
       "      <th></th>\n",
       "      <th></th>\n",
       "      <th></th>\n",
       "      <th></th>\n",
       "      <th></th>\n",
       "      <th></th>\n",
       "      <th></th>\n",
       "      <th></th>\n",
       "      <th></th>\n",
       "      <th></th>\n",
       "      <th></th>\n",
       "      <th></th>\n",
       "      <th></th>\n",
       "      <th></th>\n",
       "      <th></th>\n",
       "      <th></th>\n",
       "      <th></th>\n",
       "      <th></th>\n",
       "    </tr>\n",
       "  </thead>\n",
       "  <tbody>\n",
       "    <tr>\n",
       "      <th>000THBA</th>\n",
       "      <td>NaN</td>\n",
       "      <td>NaN</td>\n",
       "      <td>NaN</td>\n",
       "      <td>NaN</td>\n",
       "      <td>NaN</td>\n",
       "      <td>NaN</td>\n",
       "      <td>NaN</td>\n",
       "      <td>NaN</td>\n",
       "      <td>NaN</td>\n",
       "      <td>NaN</td>\n",
       "      <td>...</td>\n",
       "      <td>NaN</td>\n",
       "      <td>NaN</td>\n",
       "      <td>NaN</td>\n",
       "      <td>NaN</td>\n",
       "      <td>NaN</td>\n",
       "      <td>NaN</td>\n",
       "      <td>NaN</td>\n",
       "      <td>NaN</td>\n",
       "      <td>NaN</td>\n",
       "      <td>NaN</td>\n",
       "    </tr>\n",
       "    <tr>\n",
       "      <th>009UFS1</th>\n",
       "      <td>NaN</td>\n",
       "      <td>NaN</td>\n",
       "      <td>NaN</td>\n",
       "      <td>NaN</td>\n",
       "      <td>NaN</td>\n",
       "      <td>NaN</td>\n",
       "      <td>NaN</td>\n",
       "      <td>NaN</td>\n",
       "      <td>NaN</td>\n",
       "      <td>NaN</td>\n",
       "      <td>...</td>\n",
       "      <td>NaN</td>\n",
       "      <td>NaN</td>\n",
       "      <td>NaN</td>\n",
       "      <td>NaN</td>\n",
       "      <td>NaN</td>\n",
       "      <td>NaN</td>\n",
       "      <td>NaN</td>\n",
       "      <td>NaN</td>\n",
       "      <td>NaN</td>\n",
       "      <td>NaN</td>\n",
       "    </tr>\n",
       "    <tr>\n",
       "      <th>00GV4J4</th>\n",
       "      <td>NaN</td>\n",
       "      <td>NaN</td>\n",
       "      <td>NaN</td>\n",
       "      <td>NaN</td>\n",
       "      <td>NaN</td>\n",
       "      <td>NaN</td>\n",
       "      <td>NaN</td>\n",
       "      <td>NaN</td>\n",
       "      <td>NaN</td>\n",
       "      <td>NaN</td>\n",
       "      <td>...</td>\n",
       "      <td>NaN</td>\n",
       "      <td>NaN</td>\n",
       "      <td>NaN</td>\n",
       "      <td>NaN</td>\n",
       "      <td>NaN</td>\n",
       "      <td>NaN</td>\n",
       "      <td>NaN</td>\n",
       "      <td>NaN</td>\n",
       "      <td>NaN</td>\n",
       "      <td>NaN</td>\n",
       "    </tr>\n",
       "    <tr>\n",
       "      <th>00HWUU3</th>\n",
       "      <td>NaN</td>\n",
       "      <td>NaN</td>\n",
       "      <td>NaN</td>\n",
       "      <td>NaN</td>\n",
       "      <td>NaN</td>\n",
       "      <td>NaN</td>\n",
       "      <td>NaN</td>\n",
       "      <td>NaN</td>\n",
       "      <td>NaN</td>\n",
       "      <td>NaN</td>\n",
       "      <td>...</td>\n",
       "      <td>NaN</td>\n",
       "      <td>NaN</td>\n",
       "      <td>NaN</td>\n",
       "      <td>NaN</td>\n",
       "      <td>NaN</td>\n",
       "      <td>NaN</td>\n",
       "      <td>NaN</td>\n",
       "      <td>NaN</td>\n",
       "      <td>NaN</td>\n",
       "      <td>NaN</td>\n",
       "    </tr>\n",
       "    <tr>\n",
       "      <th>00OT8JX</th>\n",
       "      <td>2.307692</td>\n",
       "      <td>NaN</td>\n",
       "      <td>NaN</td>\n",
       "      <td>NaN</td>\n",
       "      <td>NaN</td>\n",
       "      <td>NaN</td>\n",
       "      <td>NaN</td>\n",
       "      <td>NaN</td>\n",
       "      <td>NaN</td>\n",
       "      <td>NaN</td>\n",
       "      <td>...</td>\n",
       "      <td>NaN</td>\n",
       "      <td>5.0</td>\n",
       "      <td>NaN</td>\n",
       "      <td>NaN</td>\n",
       "      <td>NaN</td>\n",
       "      <td>NaN</td>\n",
       "      <td>NaN</td>\n",
       "      <td>NaN</td>\n",
       "      <td>5.0</td>\n",
       "      <td>NaN</td>\n",
       "    </tr>\n",
       "    <tr>\n",
       "      <th>...</th>\n",
       "      <td>...</td>\n",
       "      <td>...</td>\n",
       "      <td>...</td>\n",
       "      <td>...</td>\n",
       "      <td>...</td>\n",
       "      <td>...</td>\n",
       "      <td>...</td>\n",
       "      <td>...</td>\n",
       "      <td>...</td>\n",
       "      <td>...</td>\n",
       "      <td>...</td>\n",
       "      <td>...</td>\n",
       "      <td>...</td>\n",
       "      <td>...</td>\n",
       "      <td>...</td>\n",
       "      <td>...</td>\n",
       "      <td>...</td>\n",
       "      <td>...</td>\n",
       "      <td>...</td>\n",
       "      <td>...</td>\n",
       "      <td>...</td>\n",
       "    </tr>\n",
       "    <tr>\n",
       "      <th>ZZRJABJ</th>\n",
       "      <td>NaN</td>\n",
       "      <td>NaN</td>\n",
       "      <td>NaN</td>\n",
       "      <td>NaN</td>\n",
       "      <td>NaN</td>\n",
       "      <td>NaN</td>\n",
       "      <td>NaN</td>\n",
       "      <td>NaN</td>\n",
       "      <td>NaN</td>\n",
       "      <td>NaN</td>\n",
       "      <td>...</td>\n",
       "      <td>NaN</td>\n",
       "      <td>NaN</td>\n",
       "      <td>NaN</td>\n",
       "      <td>NaN</td>\n",
       "      <td>NaN</td>\n",
       "      <td>NaN</td>\n",
       "      <td>NaN</td>\n",
       "      <td>NaN</td>\n",
       "      <td>NaN</td>\n",
       "      <td>NaN</td>\n",
       "    </tr>\n",
       "    <tr>\n",
       "      <th>ZZV76GY</th>\n",
       "      <td>NaN</td>\n",
       "      <td>NaN</td>\n",
       "      <td>NaN</td>\n",
       "      <td>NaN</td>\n",
       "      <td>NaN</td>\n",
       "      <td>NaN</td>\n",
       "      <td>NaN</td>\n",
       "      <td>NaN</td>\n",
       "      <td>NaN</td>\n",
       "      <td>NaN</td>\n",
       "      <td>...</td>\n",
       "      <td>NaN</td>\n",
       "      <td>NaN</td>\n",
       "      <td>NaN</td>\n",
       "      <td>NaN</td>\n",
       "      <td>NaN</td>\n",
       "      <td>NaN</td>\n",
       "      <td>NaN</td>\n",
       "      <td>NaN</td>\n",
       "      <td>NaN</td>\n",
       "      <td>NaN</td>\n",
       "    </tr>\n",
       "    <tr>\n",
       "      <th>ZZVGIVK</th>\n",
       "      <td>NaN</td>\n",
       "      <td>NaN</td>\n",
       "      <td>NaN</td>\n",
       "      <td>NaN</td>\n",
       "      <td>NaN</td>\n",
       "      <td>NaN</td>\n",
       "      <td>NaN</td>\n",
       "      <td>NaN</td>\n",
       "      <td>NaN</td>\n",
       "      <td>NaN</td>\n",
       "      <td>...</td>\n",
       "      <td>NaN</td>\n",
       "      <td>NaN</td>\n",
       "      <td>NaN</td>\n",
       "      <td>NaN</td>\n",
       "      <td>NaN</td>\n",
       "      <td>NaN</td>\n",
       "      <td>NaN</td>\n",
       "      <td>NaN</td>\n",
       "      <td>NaN</td>\n",
       "      <td>NaN</td>\n",
       "    </tr>\n",
       "    <tr>\n",
       "      <th>ZZVLIB5</th>\n",
       "      <td>NaN</td>\n",
       "      <td>NaN</td>\n",
       "      <td>NaN</td>\n",
       "      <td>0.0</td>\n",
       "      <td>NaN</td>\n",
       "      <td>NaN</td>\n",
       "      <td>NaN</td>\n",
       "      <td>NaN</td>\n",
       "      <td>NaN</td>\n",
       "      <td>NaN</td>\n",
       "      <td>...</td>\n",
       "      <td>NaN</td>\n",
       "      <td>NaN</td>\n",
       "      <td>NaN</td>\n",
       "      <td>NaN</td>\n",
       "      <td>NaN</td>\n",
       "      <td>NaN</td>\n",
       "      <td>NaN</td>\n",
       "      <td>NaN</td>\n",
       "      <td>NaN</td>\n",
       "      <td>NaN</td>\n",
       "    </tr>\n",
       "    <tr>\n",
       "      <th>ZZY3N0D</th>\n",
       "      <td>NaN</td>\n",
       "      <td>NaN</td>\n",
       "      <td>NaN</td>\n",
       "      <td>NaN</td>\n",
       "      <td>NaN</td>\n",
       "      <td>NaN</td>\n",
       "      <td>NaN</td>\n",
       "      <td>NaN</td>\n",
       "      <td>NaN</td>\n",
       "      <td>NaN</td>\n",
       "      <td>...</td>\n",
       "      <td>NaN</td>\n",
       "      <td>NaN</td>\n",
       "      <td>NaN</td>\n",
       "      <td>NaN</td>\n",
       "      <td>NaN</td>\n",
       "      <td>NaN</td>\n",
       "      <td>NaN</td>\n",
       "      <td>NaN</td>\n",
       "      <td>NaN</td>\n",
       "      <td>NaN</td>\n",
       "    </tr>\n",
       "  </tbody>\n",
       "</table>\n",
       "<p>14075 rows × 100 columns</p>\n",
       "</div>"
      ],
      "text/plain": [
       "vendor_id         4    13   20   23   28   33   43   44   55   66   ...  681  \\\n",
       "customer_id                                                         ...        \n",
       "000THBA           NaN  NaN  NaN  NaN  NaN  NaN  NaN  NaN  NaN  NaN  ...  NaN   \n",
       "009UFS1           NaN  NaN  NaN  NaN  NaN  NaN  NaN  NaN  NaN  NaN  ...  NaN   \n",
       "00GV4J4           NaN  NaN  NaN  NaN  NaN  NaN  NaN  NaN  NaN  NaN  ...  NaN   \n",
       "00HWUU3           NaN  NaN  NaN  NaN  NaN  NaN  NaN  NaN  NaN  NaN  ...  NaN   \n",
       "00OT8JX      2.307692  NaN  NaN  NaN  NaN  NaN  NaN  NaN  NaN  NaN  ...  NaN   \n",
       "...               ...  ...  ...  ...  ...  ...  ...  ...  ...  ...  ...  ...   \n",
       "ZZRJABJ           NaN  NaN  NaN  NaN  NaN  NaN  NaN  NaN  NaN  NaN  ...  NaN   \n",
       "ZZV76GY           NaN  NaN  NaN  NaN  NaN  NaN  NaN  NaN  NaN  NaN  ...  NaN   \n",
       "ZZVGIVK           NaN  NaN  NaN  NaN  NaN  NaN  NaN  NaN  NaN  NaN  ...  NaN   \n",
       "ZZVLIB5           NaN  NaN  NaN  0.0  NaN  NaN  NaN  NaN  NaN  NaN  ...  NaN   \n",
       "ZZY3N0D           NaN  NaN  NaN  NaN  NaN  NaN  NaN  NaN  NaN  NaN  ...  NaN   \n",
       "\n",
       "vendor_id    841  843  845  846  849  855  856  858  907  \n",
       "customer_id                                               \n",
       "000THBA      NaN  NaN  NaN  NaN  NaN  NaN  NaN  NaN  NaN  \n",
       "009UFS1      NaN  NaN  NaN  NaN  NaN  NaN  NaN  NaN  NaN  \n",
       "00GV4J4      NaN  NaN  NaN  NaN  NaN  NaN  NaN  NaN  NaN  \n",
       "00HWUU3      NaN  NaN  NaN  NaN  NaN  NaN  NaN  NaN  NaN  \n",
       "00OT8JX      5.0  NaN  NaN  NaN  NaN  NaN  NaN  5.0  NaN  \n",
       "...          ...  ...  ...  ...  ...  ...  ...  ...  ...  \n",
       "ZZRJABJ      NaN  NaN  NaN  NaN  NaN  NaN  NaN  NaN  NaN  \n",
       "ZZV76GY      NaN  NaN  NaN  NaN  NaN  NaN  NaN  NaN  NaN  \n",
       "ZZVGIVK      NaN  NaN  NaN  NaN  NaN  NaN  NaN  NaN  NaN  \n",
       "ZZVLIB5      NaN  NaN  NaN  NaN  NaN  NaN  NaN  NaN  NaN  \n",
       "ZZY3N0D      NaN  NaN  NaN  NaN  NaN  NaN  NaN  NaN  NaN  \n",
       "\n",
       "[14075 rows x 100 columns]"
      ]
     },
     "execution_count": 31,
     "metadata": {},
     "output_type": "execute_result"
    }
   ],
   "source": [
    "table"
   ]
  },
  {
   "cell_type": "code",
   "execution_count": 37,
   "id": "physical-radical",
   "metadata": {
    "hidden": true
   },
   "outputs": [],
   "source": [
    "vendors = pd.read_csv('../raw_data/vendors.csv')"
   ]
  },
  {
   "cell_type": "code",
   "execution_count": 41,
   "id": "searching-yukon",
   "metadata": {
    "hidden": true
   },
   "outputs": [
    {
     "data": {
      "text/plain": [
       "Index(['id', 'authentication_id', 'latitude', 'longitude',\n",
       "       'vendor_category_en', 'vendor_category_id', 'delivery_charge',\n",
       "       'serving_distance', 'is_open', 'OpeningTime', 'OpeningTime2',\n",
       "       'prepration_time', 'commission', 'is_akeed_delivering',\n",
       "       'discount_percentage', 'status', 'verified', 'rank', 'language',\n",
       "       'vendor_rating', 'sunday_from_time1', 'sunday_to_time1',\n",
       "       'sunday_from_time2', 'sunday_to_time2', 'monday_from_time1',\n",
       "       'monday_to_time1', 'monday_from_time2', 'monday_to_time2',\n",
       "       'tuesday_from_time1', 'tuesday_to_time1', 'tuesday_from_time2',\n",
       "       'tuesday_to_time2', 'wednesday_from_time1', 'wednesday_to_time1',\n",
       "       'wednesday_from_time2', 'wednesday_to_time2', 'thursday_from_time1',\n",
       "       'thursday_to_time1', 'thursday_from_time2', 'thursday_to_time2',\n",
       "       'friday_from_time1', 'friday_to_time1', 'friday_from_time2',\n",
       "       'friday_to_time2', 'saturday_from_time1', 'saturday_to_time1',\n",
       "       'saturday_from_time2', 'saturday_to_time2', 'primary_tags',\n",
       "       'open_close_flags', 'vendor_tag', 'vendor_tag_name', 'one_click_vendor',\n",
       "       'country_id', 'city_id', 'created_at', 'updated_at', 'device_type',\n",
       "       'display_orders'],\n",
       "      dtype='object')"
      ]
     },
     "execution_count": 41,
     "metadata": {},
     "output_type": "execute_result"
    }
   ],
   "source": [
    "vendors.columns"
   ]
  },
  {
   "cell_type": "code",
   "execution_count": 47,
   "id": "broad-dakota",
   "metadata": {
    "hidden": true
   },
   "outputs": [
    {
     "data": {
      "text/plain": [
       "(100, 59)"
      ]
     },
     "execution_count": 47,
     "metadata": {},
     "output_type": "execute_result"
    }
   ],
   "source": [
    "vendors.shape"
   ]
  },
  {
   "cell_type": "code",
   "execution_count": null,
   "id": "fitting-branch",
   "metadata": {
    "hidden": true
   },
   "outputs": [],
   "source": []
  }
 ],
 "metadata": {
  "kernelspec": {
   "display_name": "Python 3",
   "language": "python",
   "name": "python3"
  },
  "language_info": {
   "codemirror_mode": {
    "name": "ipython",
    "version": 3
   },
   "file_extension": ".py",
   "mimetype": "text/x-python",
   "name": "python",
   "nbconvert_exporter": "python",
   "pygments_lexer": "ipython3",
   "version": "3.8.6"
  },
  "toc": {
   "base_numbering": 1,
   "nav_menu": {},
   "number_sections": true,
   "sideBar": true,
   "skip_h1_title": false,
   "title_cell": "Table of Contents",
   "title_sidebar": "Contents",
   "toc_cell": false,
   "toc_position": {},
   "toc_section_display": true,
   "toc_window_display": false
  }
 },
 "nbformat": 4,
 "nbformat_minor": 5
}
